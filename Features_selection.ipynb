{
  "nbformat": 4,
  "nbformat_minor": 0,
  "metadata": {
    "colab": {
      "provenance": []
    },
    "kernelspec": {
      "name": "python3",
      "display_name": "Python 3"
    },
    "language_info": {
      "name": "python"
    }
  },
  "cells": [
    {
      "cell_type": "code",
      "execution_count": 1,
      "metadata": {
        "id": "GJo70FOYuNDA"
      },
      "outputs": [],
      "source": [
        "import numpy as np\n",
        "import pandas as pd\n",
        "import matplotlib.pyplot as plt"
      ]
    },
    {
      "cell_type": "code",
      "source": [
        "!pip install mrmr-selection"
      ],
      "metadata": {
        "colab": {
          "base_uri": "https://localhost:8080/"
        },
        "id": "6INsqH99vZ64",
        "outputId": "1f1339c4-f84b-4c91-f39c-67f7a49cd6b2"
      },
      "execution_count": 2,
      "outputs": [
        {
          "output_type": "stream",
          "name": "stdout",
          "text": [
            "Requirement already satisfied: mrmr-selection in /usr/local/lib/python3.10/dist-packages (0.2.8)\n",
            "Requirement already satisfied: category-encoders in /usr/local/lib/python3.10/dist-packages (from mrmr-selection) (2.6.2)\n",
            "Requirement already satisfied: jinja2 in /usr/local/lib/python3.10/dist-packages (from mrmr-selection) (3.1.2)\n",
            "Requirement already satisfied: tqdm in /usr/local/lib/python3.10/dist-packages (from mrmr-selection) (4.66.1)\n",
            "Requirement already satisfied: joblib in /usr/local/lib/python3.10/dist-packages (from mrmr-selection) (1.3.2)\n",
            "Requirement already satisfied: pandas>=1.0.3 in /usr/local/lib/python3.10/dist-packages (from mrmr-selection) (1.5.3)\n",
            "Requirement already satisfied: numpy>=1.18.1 in /usr/local/lib/python3.10/dist-packages (from mrmr-selection) (1.23.5)\n",
            "Requirement already satisfied: scikit-learn in /usr/local/lib/python3.10/dist-packages (from mrmr-selection) (1.2.2)\n",
            "Requirement already satisfied: scipy in /usr/local/lib/python3.10/dist-packages (from mrmr-selection) (1.11.3)\n",
            "Requirement already satisfied: polars>=0.12.5 in /usr/local/lib/python3.10/dist-packages (from mrmr-selection) (0.17.3)\n",
            "Requirement already satisfied: python-dateutil>=2.8.1 in /usr/local/lib/python3.10/dist-packages (from pandas>=1.0.3->mrmr-selection) (2.8.2)\n",
            "Requirement already satisfied: pytz>=2020.1 in /usr/local/lib/python3.10/dist-packages (from pandas>=1.0.3->mrmr-selection) (2023.3.post1)\n",
            "Requirement already satisfied: typing_extensions>=4.0.1 in /usr/local/lib/python3.10/dist-packages (from polars>=0.12.5->mrmr-selection) (4.5.0)\n",
            "Requirement already satisfied: statsmodels>=0.9.0 in /usr/local/lib/python3.10/dist-packages (from category-encoders->mrmr-selection) (0.14.0)\n",
            "Requirement already satisfied: patsy>=0.5.1 in /usr/local/lib/python3.10/dist-packages (from category-encoders->mrmr-selection) (0.5.3)\n",
            "Requirement already satisfied: threadpoolctl>=2.0.0 in /usr/local/lib/python3.10/dist-packages (from scikit-learn->mrmr-selection) (3.2.0)\n",
            "Requirement already satisfied: MarkupSafe>=2.0 in /usr/local/lib/python3.10/dist-packages (from jinja2->mrmr-selection) (2.1.3)\n",
            "Requirement already satisfied: six in /usr/local/lib/python3.10/dist-packages (from patsy>=0.5.1->category-encoders->mrmr-selection) (1.16.0)\n",
            "Requirement already satisfied: packaging>=21.3 in /usr/local/lib/python3.10/dist-packages (from statsmodels>=0.9.0->category-encoders->mrmr-selection) (23.2)\n"
          ]
        }
      ]
    },
    {
      "cell_type": "code",
      "source": [
        "from mrmr import mrmr_regression"
      ],
      "metadata": {
        "id": "eAgxnFtnvfZK"
      },
      "execution_count": 3,
      "outputs": []
    },
    {
      "cell_type": "code",
      "source": [
        "from sklearn.ensemble import RandomForestRegressor"
      ],
      "metadata": {
        "id": "H3DS5-7LaxGx"
      },
      "execution_count": 4,
      "outputs": []
    },
    {
      "cell_type": "markdown",
      "source": [
        "Download the new data for feature selection"
      ],
      "metadata": {
        "id": "csxCY5GjviNw"
      }
    },
    {
      "cell_type": "code",
      "source": [
        "df_green= pd.read_csv('df_green.csv')\n",
        "df_red= pd.read_csv('df_red.csv')\n",
        "df_yellow= pd.read_csv('df_yellow.csv')"
      ],
      "metadata": {
        "id": "HmdlLVlMT029"
      },
      "execution_count": 5,
      "outputs": []
    },
    {
      "cell_type": "code",
      "source": [
        "df_green.set_index('week_end_dt', inplace= True)\n",
        "df_red.set_index('week_end_dt', inplace= True)\n",
        "df_yellow.set_index('week_end_dt', inplace= True)"
      ],
      "metadata": {
        "id": "dyBL08UFU6Ri"
      },
      "execution_count": 6,
      "outputs": []
    },
    {
      "cell_type": "markdown",
      "source": [
        "## Feature Selection"
      ],
      "metadata": {
        "id": "WVnS64vruzGi"
      }
    },
    {
      "cell_type": "markdown",
      "source": [
        "using MRMR on df_green"
      ],
      "metadata": {
        "id": "fdp7elLFu24a"
      }
    },
    {
      "cell_type": "markdown",
      "source": [
        "split the data in x for features and y for target"
      ],
      "metadata": {
        "id": "k8xh7R2eUac7"
      }
    },
    {
      "cell_type": "code",
      "source": [
        "X= df_green.drop('price', axis=1)\n",
        "y= df_green['price']\n",
        "selected_features_green = mrmr_regression(X=X, y=y, K=12)"
      ],
      "metadata": {
        "colab": {
          "base_uri": "https://localhost:8080/"
        },
        "id": "0KKYYcoHUJKu",
        "outputId": "bffbc468-fc1d-4f63-fd65-52f28a3cbb6d"
      },
      "execution_count": 7,
      "outputs": [
        {
          "output_type": "stream",
          "name": "stderr",
          "text": [
            "100%|██████████| 12/12 [00:04<00:00,  2.72it/s]\n"
          ]
        }
      ]
    },
    {
      "cell_type": "code",
      "source": [
        "selected_features_green"
      ],
      "metadata": {
        "id": "6Yn26rucu8nC",
        "colab": {
          "base_uri": "https://localhost:8080/"
        },
        "outputId": "2f9bb505-f793-427a-8fb4-1d68ca36feca"
      },
      "execution_count": 8,
      "outputs": [
        {
          "output_type": "execute_result",
          "data": {
            "text/plain": [
              "['price_shift_4_Rolling_2',\n",
              " 'india_season_shift_6_Rolling_6',\n",
              " 'price_shift_4_Rolling_4',\n",
              " 'vietnam',\n",
              " 'price_shift_5_Rolling_2',\n",
              " 'vietnam_season_3_shift_5_Rolling_2',\n",
              " 'jordan_min_price_shift_4_Rolling_2',\n",
              " 'brazil_season_shift_4_Rolling_7',\n",
              " 'price_shift_4_Rolling_6',\n",
              " 'vietnam_season_2_shift_4_Rolling_2',\n",
              " 'jordan_max_price_shift_4_Rolling_2',\n",
              " 'vietnam_season_2']"
            ]
          },
          "metadata": {},
          "execution_count": 8
        }
      ]
    },
    {
      "cell_type": "markdown",
      "source": [
        "using MRMR on df_red"
      ],
      "metadata": {
        "id": "m0f_H9WJVqEX"
      }
    },
    {
      "cell_type": "markdown",
      "source": [
        "split the data in x for features and y for target"
      ],
      "metadata": {
        "id": "TthNjTsYVsjR"
      }
    },
    {
      "cell_type": "code",
      "source": [
        "X= df_red.drop('price', axis=1)\n",
        "y= df_red['price']\n",
        "selected_features_red = mrmr_regression(X=X, y=y, K=12)"
      ],
      "metadata": {
        "colab": {
          "base_uri": "https://localhost:8080/"
        },
        "id": "TQMMakXIVpo2",
        "outputId": "82ac6246-afe6-4b7a-8a51-593708e0d56b"
      },
      "execution_count": 9,
      "outputs": [
        {
          "output_type": "stream",
          "name": "stderr",
          "text": [
            "100%|██████████| 12/12 [00:03<00:00,  3.22it/s]\n"
          ]
        }
      ]
    },
    {
      "cell_type": "code",
      "source": [
        "selected_features_red"
      ],
      "metadata": {
        "colab": {
          "base_uri": "https://localhost:8080/"
        },
        "id": "bEgom2PBV1MP",
        "outputId": "7020013d-130a-4032-ec29-15930ee395e2"
      },
      "execution_count": 10,
      "outputs": [
        {
          "output_type": "execute_result",
          "data": {
            "text/plain": [
              "['price_shift_4_Rolling_2',\n",
              " 'india_season_shift_4_Rolling_7',\n",
              " 'jordan_min_price_shift_4_Rolling_2',\n",
              " 'price_shift_4_Rolling_4',\n",
              " 'demand_shift_4_Rolling_2',\n",
              " 'vietnam',\n",
              " 'jordan_max_price_shift_4_Rolling_2',\n",
              " 'price_shift_5_Rolling_2',\n",
              " 'vietnam_season_3_shift_4_Rolling_2',\n",
              " 'jordan_min_price_shift_4_Rolling_4',\n",
              " 'vietnam_season_2',\n",
              " 'price_shift_4_Rolling_6']"
            ]
          },
          "metadata": {},
          "execution_count": 10
        }
      ]
    },
    {
      "cell_type": "markdown",
      "source": [
        "using MRMR on df_yellow"
      ],
      "metadata": {
        "id": "fQJYW2A_XUz7"
      }
    },
    {
      "cell_type": "markdown",
      "source": [
        "split the data in x for features and y for target"
      ],
      "metadata": {
        "id": "mGChRzDwXXF8"
      }
    },
    {
      "cell_type": "code",
      "source": [
        "X= df_yellow.drop('price', axis=1)\n",
        "y= df_yellow['price']\n",
        "selected_features_yellow = mrmr_regression(X=X, y=y, K=12)"
      ],
      "metadata": {
        "colab": {
          "base_uri": "https://localhost:8080/"
        },
        "id": "HbWcvr59XWED",
        "outputId": "2cb1c8f8-705c-4921-a1f4-6375a151925e"
      },
      "execution_count": 11,
      "outputs": [
        {
          "output_type": "stream",
          "name": "stderr",
          "text": [
            "100%|██████████| 12/12 [00:05<00:00,  2.00it/s]\n"
          ]
        }
      ]
    },
    {
      "cell_type": "code",
      "source": [
        "selected_features_yellow"
      ],
      "metadata": {
        "colab": {
          "base_uri": "https://localhost:8080/"
        },
        "id": "xtyS-JGhXlTa",
        "outputId": "3bb9f690-c474-4da9-dafd-ced81d268914"
      },
      "execution_count": 12,
      "outputs": [
        {
          "output_type": "execute_result",
          "data": {
            "text/plain": [
              "['price_shift_4_Rolling_2',\n",
              " 'india_shift_4_Rolling_6',\n",
              " 'jordan_min_price_shift_4_Rolling_2',\n",
              " 'jordan_max_price_shift_4_Rolling_2',\n",
              " 'price_shift_4_Rolling_4',\n",
              " 'vietnam',\n",
              " 'price_shift_5_Rolling_2',\n",
              " 'india_season_shift_5_Rolling_7',\n",
              " 'jordan_min_price_shift_4_Rolling_4',\n",
              " 'jordan_max_price_shift_4_Rolling_4',\n",
              " 'price_shift_4_Rolling_6',\n",
              " 'brazil']"
            ]
          },
          "metadata": {},
          "execution_count": 12
        }
      ]
    },
    {
      "cell_type": "markdown",
      "source": [
        "Feature Importance for df_green"
      ],
      "metadata": {
        "id": "PVrFBGK1ZyDV"
      }
    },
    {
      "cell_type": "code",
      "source": [
        "X= df_green.drop('price', axis=1)\n",
        "y= df_green['price']\n",
        "\n",
        "model= RandomForestRegressor()\n",
        "model.fit(X, y)"
      ],
      "metadata": {
        "colab": {
          "base_uri": "https://localhost:8080/",
          "height": 75
        },
        "id": "hA8MDfU-aBuB",
        "outputId": "2cdf1f59-7bcf-4ff2-8f4a-4287d630172d"
      },
      "execution_count": 13,
      "outputs": [
        {
          "output_type": "execute_result",
          "data": {
            "text/plain": [
              "RandomForestRegressor()"
            ],
            "text/html": [
              "<style>#sk-container-id-1 {color: black;background-color: white;}#sk-container-id-1 pre{padding: 0;}#sk-container-id-1 div.sk-toggleable {background-color: white;}#sk-container-id-1 label.sk-toggleable__label {cursor: pointer;display: block;width: 100%;margin-bottom: 0;padding: 0.3em;box-sizing: border-box;text-align: center;}#sk-container-id-1 label.sk-toggleable__label-arrow:before {content: \"▸\";float: left;margin-right: 0.25em;color: #696969;}#sk-container-id-1 label.sk-toggleable__label-arrow:hover:before {color: black;}#sk-container-id-1 div.sk-estimator:hover label.sk-toggleable__label-arrow:before {color: black;}#sk-container-id-1 div.sk-toggleable__content {max-height: 0;max-width: 0;overflow: hidden;text-align: left;background-color: #f0f8ff;}#sk-container-id-1 div.sk-toggleable__content pre {margin: 0.2em;color: black;border-radius: 0.25em;background-color: #f0f8ff;}#sk-container-id-1 input.sk-toggleable__control:checked~div.sk-toggleable__content {max-height: 200px;max-width: 100%;overflow: auto;}#sk-container-id-1 input.sk-toggleable__control:checked~label.sk-toggleable__label-arrow:before {content: \"▾\";}#sk-container-id-1 div.sk-estimator input.sk-toggleable__control:checked~label.sk-toggleable__label {background-color: #d4ebff;}#sk-container-id-1 div.sk-label input.sk-toggleable__control:checked~label.sk-toggleable__label {background-color: #d4ebff;}#sk-container-id-1 input.sk-hidden--visually {border: 0;clip: rect(1px 1px 1px 1px);clip: rect(1px, 1px, 1px, 1px);height: 1px;margin: -1px;overflow: hidden;padding: 0;position: absolute;width: 1px;}#sk-container-id-1 div.sk-estimator {font-family: monospace;background-color: #f0f8ff;border: 1px dotted black;border-radius: 0.25em;box-sizing: border-box;margin-bottom: 0.5em;}#sk-container-id-1 div.sk-estimator:hover {background-color: #d4ebff;}#sk-container-id-1 div.sk-parallel-item::after {content: \"\";width: 100%;border-bottom: 1px solid gray;flex-grow: 1;}#sk-container-id-1 div.sk-label:hover label.sk-toggleable__label {background-color: #d4ebff;}#sk-container-id-1 div.sk-serial::before {content: \"\";position: absolute;border-left: 1px solid gray;box-sizing: border-box;top: 0;bottom: 0;left: 50%;z-index: 0;}#sk-container-id-1 div.sk-serial {display: flex;flex-direction: column;align-items: center;background-color: white;padding-right: 0.2em;padding-left: 0.2em;position: relative;}#sk-container-id-1 div.sk-item {position: relative;z-index: 1;}#sk-container-id-1 div.sk-parallel {display: flex;align-items: stretch;justify-content: center;background-color: white;position: relative;}#sk-container-id-1 div.sk-item::before, #sk-container-id-1 div.sk-parallel-item::before {content: \"\";position: absolute;border-left: 1px solid gray;box-sizing: border-box;top: 0;bottom: 0;left: 50%;z-index: -1;}#sk-container-id-1 div.sk-parallel-item {display: flex;flex-direction: column;z-index: 1;position: relative;background-color: white;}#sk-container-id-1 div.sk-parallel-item:first-child::after {align-self: flex-end;width: 50%;}#sk-container-id-1 div.sk-parallel-item:last-child::after {align-self: flex-start;width: 50%;}#sk-container-id-1 div.sk-parallel-item:only-child::after {width: 0;}#sk-container-id-1 div.sk-dashed-wrapped {border: 1px dashed gray;margin: 0 0.4em 0.5em 0.4em;box-sizing: border-box;padding-bottom: 0.4em;background-color: white;}#sk-container-id-1 div.sk-label label {font-family: monospace;font-weight: bold;display: inline-block;line-height: 1.2em;}#sk-container-id-1 div.sk-label-container {text-align: center;}#sk-container-id-1 div.sk-container {/* jupyter's `normalize.less` sets `[hidden] { display: none; }` but bootstrap.min.css set `[hidden] { display: none !important; }` so we also need the `!important` here to be able to override the default hidden behavior on the sphinx rendered scikit-learn.org. See: https://github.com/scikit-learn/scikit-learn/issues/21755 */display: inline-block !important;position: relative;}#sk-container-id-1 div.sk-text-repr-fallback {display: none;}</style><div id=\"sk-container-id-1\" class=\"sk-top-container\"><div class=\"sk-text-repr-fallback\"><pre>RandomForestRegressor()</pre><b>In a Jupyter environment, please rerun this cell to show the HTML representation or trust the notebook. <br />On GitHub, the HTML representation is unable to render, please try loading this page with nbviewer.org.</b></div><div class=\"sk-container\" hidden><div class=\"sk-item\"><div class=\"sk-estimator sk-toggleable\"><input class=\"sk-toggleable__control sk-hidden--visually\" id=\"sk-estimator-id-1\" type=\"checkbox\" checked><label for=\"sk-estimator-id-1\" class=\"sk-toggleable__label sk-toggleable__label-arrow\">RandomForestRegressor</label><div class=\"sk-toggleable__content\"><pre>RandomForestRegressor()</pre></div></div></div></div></div>"
            ]
          },
          "metadata": {},
          "execution_count": 13
        }
      ]
    },
    {
      "cell_type": "code",
      "source": [
        "print(model.feature_importances_)"
      ],
      "metadata": {
        "colab": {
          "base_uri": "https://localhost:8080/"
        },
        "id": "W-ZyS_AQZ0n8",
        "outputId": "dedf46f3-3093-41b9-9064-4176d63238d7"
      },
      "execution_count": 14,
      "outputs": [
        {
          "output_type": "stream",
          "name": "stdout",
          "text": [
            "[3.11489454e-03 4.88235196e-02 5.09624381e-03 3.55304448e-02\n",
            " 1.44853133e-02 7.06935841e-04 5.86970887e-04 2.70850576e-06\n",
            " 7.56659277e-06 1.10992391e-03 5.79308406e-04 3.39971769e-03\n",
            " 4.02921466e-04 1.83373518e-01 3.89621026e-02 1.88435108e-02\n",
            " 1.32725221e-02 4.49945822e-03 3.55546124e-03 2.71197868e-04\n",
            " 1.07672286e-03 6.11452945e-04 1.72391039e-03 1.77714180e-03\n",
            " 8.07608761e-04 1.99140890e-03 1.19136620e-03 7.11212824e-04\n",
            " 1.70071287e-03 9.38053626e-03 1.18042992e-03 2.20856740e-03\n",
            " 7.61115334e-04 4.47242308e-04 7.04532858e-04 4.59778756e-04\n",
            " 1.42123732e-03 1.21846567e-03 3.65169131e-04 8.63328973e-04\n",
            " 1.21152430e-03 1.16430309e-03 1.06918998e-03 3.00902661e-03\n",
            " 2.14512836e-03 1.03422821e-03 2.66459239e-03 7.60339499e-04\n",
            " 1.33127540e-03 5.69389023e-04 7.19421580e-04 6.13679845e-04\n",
            " 1.91098961e-03 3.36020493e-04 7.57528167e-04 2.71789254e-04\n",
            " 1.54388040e-03 8.65534890e-04 1.42598247e-03 1.32352455e-03\n",
            " 2.09238934e-03 2.01542658e-03 4.12613703e-04 1.28764098e-04\n",
            " 6.53396461e-05 2.76666744e-04 1.30338748e-04 6.75568489e-04\n",
            " 6.53773686e-04 4.07315433e-05 9.22217086e-04 2.31076145e-04\n",
            " 4.03761446e-04 8.65373799e-05 2.74653837e-04 2.28296265e-04\n",
            " 5.29765002e-04 3.97967214e-03 9.55132081e-04 1.69423633e-04\n",
            " 9.05965180e-04 5.97562736e-04 2.87388012e-04 5.70228382e-04\n",
            " 8.35670517e-04 1.63210481e-03 8.68559587e-04 7.13094554e-04\n",
            " 5.59886373e-04 7.07642229e-04 1.36270125e-03 5.20910143e-03\n",
            " 1.55349825e-02 1.39390731e-03 8.78926434e-04 7.36585368e-04\n",
            " 5.26037540e-04 2.10647605e-03 1.30723779e-03 8.13473639e-04\n",
            " 2.35233417e-04 1.15446668e-03 1.33633579e-04 6.88500177e-05\n",
            " 1.60274698e-04 1.54526953e-04 3.67740734e-05 8.10051175e-04\n",
            " 2.74287333e-04 1.20589882e-04 1.28053371e-04 2.50863844e-05\n",
            " 4.13580493e-04 3.32255657e-05 1.22416346e-04 4.14986615e-05\n",
            " 7.66138961e-05 3.49769859e-05 1.04685376e-04 7.95964448e-06\n",
            " 2.92670556e-05 2.93471800e-05 7.16712401e-06 1.47724495e-04\n",
            " 4.44475282e-05 3.90996121e-05 4.59774473e-06 7.76984723e-06\n",
            " 9.58701330e-06 1.21405067e-05 4.47140244e-05 3.39710796e-05\n",
            " 1.88580920e-03 2.53649999e-06 1.44327365e-04 4.25946578e-04\n",
            " 2.47251300e-03 3.94510906e-08 7.76474605e-05 1.64457385e-05\n",
            " 3.39612618e-04 1.83459541e-03 5.77717520e-05 3.93720416e-04\n",
            " 5.53790416e-04 5.17146150e-06 1.12742847e-05 8.35116700e-05\n",
            " 1.23896547e-04 8.47438520e-06 1.45792002e-04 1.30378728e-04\n",
            " 1.22302690e-04 1.04544708e-05 5.36870296e-06 7.13421711e-06\n",
            " 1.06141777e-04 2.10942815e-06 4.69809704e-05 8.34759329e-05\n",
            " 1.42991223e-04 1.69808023e-05 4.10404838e-05 2.99485233e-06\n",
            " 4.99980815e-04 4.34374692e-06 2.15290440e-05 1.32143474e-05\n",
            " 4.61670273e-04 2.50904392e-06 4.84719665e-04 4.15879951e-05\n",
            " 2.86870777e-03 4.14616219e-07 2.18050985e-04 5.85714088e-05\n",
            " 3.66226296e-05 8.64792153e-06 3.99645639e-07 1.68252039e-05\n",
            " 1.19910630e-04 6.62685741e-05 1.41228567e-04 1.48923309e-04\n",
            " 9.31008055e-05 9.79597927e-06 6.57127287e-06 4.12063349e-06\n",
            " 1.07956585e-04 5.30010267e-03 8.46377299e-03 3.37151632e-03\n",
            " 5.60431841e-03 3.44056391e-03 1.00011165e-03 1.46379158e-03\n",
            " 3.93145745e-03 1.99574288e-03 9.58626239e-04 9.67251947e-04\n",
            " 2.44753796e-03 1.35181152e-03 2.77195014e-03 7.98262488e-04\n",
            " 1.71910866e-03 5.99145938e-02 1.41275153e-02 5.90583565e-03\n",
            " 1.16996734e-02 6.24773513e-04 3.14534461e-03 9.48419597e-04\n",
            " 2.65575919e-03 2.71861645e-03 4.60871509e-03 2.98793252e-03\n",
            " 4.35396124e-03 5.11185413e-03 2.83062383e-03 7.45450750e-03\n",
            " 3.90727465e-03 2.33119310e-03 3.02035580e-03 1.10427802e-03\n",
            " 9.80563022e-04 2.31922577e-03 1.76531400e-03 1.31227006e-03\n",
            " 3.12186126e-03 2.88668432e-03 1.46685046e-03 2.80122795e-03\n",
            " 9.66383643e-04 7.68571559e-03 5.04541457e-03 1.31838428e-03\n",
            " 2.86860182e-03 3.28425859e-03 2.12233889e-03 8.45288742e-04\n",
            " 1.06930303e-03 3.10574370e-03 2.40950208e-03 1.21051754e-03\n",
            " 5.54877967e-04 1.08470941e-03 6.88836915e-04 6.56259245e-04\n",
            " 1.18761332e-03 2.10289473e-03 2.40440575e-03 1.64981805e-03\n",
            " 2.13578202e-03 2.37530299e-07 5.79537997e-06 4.36698448e-04\n",
            " 8.23402854e-05 4.01676246e-06 6.30823050e-05 1.42695787e-05\n",
            " 2.62482255e-05 1.07026886e-04 3.60157228e-04 2.22690715e-04\n",
            " 1.58918410e-05 4.69181269e-05 3.89940563e-06 3.89072651e-04\n",
            " 1.34282385e-04 1.55936989e-03 1.29976837e-05 6.07076446e-06\n",
            " 8.11956307e-04 8.42682373e-05 1.35269507e-04 4.94038391e-05\n",
            " 1.33554283e-04 8.32051634e-07 2.98135969e-06 1.98710478e-04\n",
            " 2.14233628e-05 1.78047466e-05 5.27751126e-05 9.10626627e-05\n",
            " 9.03355831e-04 7.38284359e-04 3.14445045e-03 1.89547378e-03\n",
            " 3.81524091e-03 8.57271788e-04 3.26153076e-04 8.11490926e-04\n",
            " 1.58114587e-04 9.02277327e-04 6.07658120e-04 8.83053236e-06\n",
            " 1.90725964e-04 2.81529845e-04 2.16020386e-04 3.97346325e-05\n",
            " 1.32484730e-03 1.85040168e-03 5.00115267e-04 3.84160135e-04\n",
            " 1.08939579e-03 3.85909941e-03 6.55325907e-03 3.65221725e-04\n",
            " 1.77806142e-04 5.74205533e-03 2.64971673e-04 6.45427701e-04\n",
            " 1.05941289e-03 9.03902332e-04 2.44065375e-03 9.96969913e-04\n",
            " 4.12093881e-03 5.48950567e-04 1.57125675e-04 6.54771755e-05\n",
            " 3.50086766e-04 2.88636627e-05 7.90334124e-05 2.24542096e-04\n",
            " 2.80127312e-04 4.51249817e-04 1.29503902e-04 1.53756653e-04\n",
            " 2.00037293e-04 1.00808452e-04 2.60618700e-04 1.44977890e-04\n",
            " 2.70295234e-04 7.09405541e-03 8.30038648e-03 2.93334758e-03\n",
            " 1.48001991e-03 5.25847854e-03 4.09402963e-03 9.96056519e-04\n",
            " 4.26101687e-04 7.42207128e-04 1.54951959e-03 7.09743967e-04\n",
            " 1.17300635e-03 7.12303908e-04 1.37144811e-03 7.50999818e-04\n",
            " 3.19430738e-03 6.51626977e-04 1.58715321e-03 4.21678860e-04\n",
            " 5.73017808e-05 2.10119543e-04 4.77253005e-04 2.23871278e-04\n",
            " 4.13428352e-05 6.81119519e-04 1.15360775e-03 9.04017305e-05\n",
            " 8.70375842e-05 1.86892440e-03 7.88307541e-05 4.16774094e-04\n",
            " 4.34607289e-04 1.30859269e-05 2.71874630e-05 3.60287482e-05\n",
            " 2.12491296e-05 3.21801095e-05 4.30090007e-06 7.25581857e-06\n",
            " 5.58938676e-05 8.60101292e-06 1.00085291e-05 2.00128186e-05\n",
            " 5.95384311e-05 2.11694707e-05 2.13269012e-06 3.27384646e-05\n",
            " 7.70147197e-06 2.85946224e-03 1.02855525e-03 1.97956576e-03\n",
            " 1.49807583e-03 1.12221624e-03 4.20484358e-04 2.17353631e-03\n",
            " 9.12351531e-04 1.07985537e-03 1.75356025e-03 1.11560453e-03\n",
            " 1.06446062e-03 1.29245703e-03 1.50784931e-03 2.72163719e-03\n",
            " 1.71476939e-03 2.67309427e-03 1.13052114e-03 9.88401186e-04\n",
            " 2.61439690e-03 2.14953856e-03 1.73772905e-03 5.38827177e-03\n",
            " 2.69245630e-03 1.08311931e-02 1.04015387e-03 1.24937512e-04\n",
            " 1.98268728e-03 1.37179568e-03 2.10585825e-03 5.52969357e-04\n",
            " 1.70245422e-03 2.10397513e-03 3.93563789e-05 5.88928925e-05\n",
            " 8.95411194e-04 7.60466278e-04 1.03210589e-04 4.89415833e-04\n",
            " 7.96942267e-04 1.26130466e-04 8.14639763e-05 6.94353897e-04\n",
            " 7.13413138e-04 9.04434898e-04 3.44299017e-04 8.15639130e-04\n",
            " 6.53149985e-04 3.15006775e-03 2.45367802e-03 2.22901321e-03\n",
            " 1.64093283e-04 1.98633020e-03 5.29142367e-03 1.66488582e-03\n",
            " 1.34111169e-03 1.75116406e-03 1.60369174e-03 1.62743106e-03\n",
            " 1.77339438e-02 1.50449844e-03 1.39053121e-03 6.52243999e-03\n",
            " 1.52726767e-02 1.50351089e-03 3.33723699e-04 8.35445395e-05\n",
            " 2.60355134e-04 9.50538728e-04 1.70273429e-04 7.21517914e-04\n",
            " 9.53539280e-05 1.02045347e-04 1.25322901e-04 2.53391091e-04\n",
            " 1.64156093e-04 3.14933712e-04 1.30540085e-04 1.65602583e-04\n",
            " 4.78771214e-04 1.46002428e-04 9.36551621e-05 1.74480089e-05\n",
            " 4.59348111e-05 1.86534277e-04 1.39663101e-04 1.09691070e-05\n",
            " 1.76567476e-05 6.05309370e-05 8.63251615e-05 3.87650666e-05\n",
            " 3.84232010e-05 6.50889870e-05 5.81546770e-05 1.78301126e-05\n",
            " 4.19100327e-05]\n"
          ]
        }
      ]
    },
    {
      "cell_type": "code",
      "source": [
        "feat_importance_green= pd.Series(model.feature_importances_, index= X.columns)"
      ],
      "metadata": {
        "id": "OfiDKrGwaPbo"
      },
      "execution_count": 15,
      "outputs": []
    },
    {
      "cell_type": "code",
      "source": [
        "feat_importance_green.sort_values(ascending=False)"
      ],
      "metadata": {
        "colab": {
          "base_uri": "https://localhost:8080/"
        },
        "id": "pVdpI47OaUhw",
        "outputId": "c49f9d90-2e5f-496e-fda1-f782e00852fb"
      },
      "execution_count": 16,
      "outputs": [
        {
          "output_type": "execute_result",
          "data": {
            "text/plain": [
              "price_shift_4_Rolling_2               1.833735e-01\n",
              "jordan_min_price_shift_4_Rolling_2    5.991459e-02\n",
              "brazil                                4.882352e-02\n",
              "price_shift_4_Rolling_4               3.896210e-02\n",
              "vietnam                               3.553044e-02\n",
              "                                          ...     \n",
              "vietnam_season_2_shift_6_Rolling_2    8.320516e-07\n",
              "china_season_shift_4_Rolling_2        4.146162e-07\n",
              "china_season_shift_5_Rolling_4        3.996456e-07\n",
              "vietnam_season_1_shift_4_Rolling_2    2.375303e-07\n",
              "brazil_season_shift_7_Rolling_2       3.945109e-08\n",
              "Length: 477, dtype: float64"
            ]
          },
          "metadata": {},
          "execution_count": 16
        }
      ]
    },
    {
      "cell_type": "markdown",
      "source": [
        "Feature Importance for df_red"
      ],
      "metadata": {
        "id": "6F0B34jRa6tX"
      }
    },
    {
      "cell_type": "code",
      "source": [
        "X= df_red.drop('price', axis=1)\n",
        "y= df_red['price']\n",
        "\n",
        "model= RandomForestRegressor()\n",
        "model.fit(X, y)"
      ],
      "metadata": {
        "colab": {
          "base_uri": "https://localhost:8080/",
          "height": 75
        },
        "id": "I5zc8-Q0aiCA",
        "outputId": "013a06c4-ee02-4e29-b751-8979033009de"
      },
      "execution_count": 17,
      "outputs": [
        {
          "output_type": "execute_result",
          "data": {
            "text/plain": [
              "RandomForestRegressor()"
            ],
            "text/html": [
              "<style>#sk-container-id-2 {color: black;background-color: white;}#sk-container-id-2 pre{padding: 0;}#sk-container-id-2 div.sk-toggleable {background-color: white;}#sk-container-id-2 label.sk-toggleable__label {cursor: pointer;display: block;width: 100%;margin-bottom: 0;padding: 0.3em;box-sizing: border-box;text-align: center;}#sk-container-id-2 label.sk-toggleable__label-arrow:before {content: \"▸\";float: left;margin-right: 0.25em;color: #696969;}#sk-container-id-2 label.sk-toggleable__label-arrow:hover:before {color: black;}#sk-container-id-2 div.sk-estimator:hover label.sk-toggleable__label-arrow:before {color: black;}#sk-container-id-2 div.sk-toggleable__content {max-height: 0;max-width: 0;overflow: hidden;text-align: left;background-color: #f0f8ff;}#sk-container-id-2 div.sk-toggleable__content pre {margin: 0.2em;color: black;border-radius: 0.25em;background-color: #f0f8ff;}#sk-container-id-2 input.sk-toggleable__control:checked~div.sk-toggleable__content {max-height: 200px;max-width: 100%;overflow: auto;}#sk-container-id-2 input.sk-toggleable__control:checked~label.sk-toggleable__label-arrow:before {content: \"▾\";}#sk-container-id-2 div.sk-estimator input.sk-toggleable__control:checked~label.sk-toggleable__label {background-color: #d4ebff;}#sk-container-id-2 div.sk-label input.sk-toggleable__control:checked~label.sk-toggleable__label {background-color: #d4ebff;}#sk-container-id-2 input.sk-hidden--visually {border: 0;clip: rect(1px 1px 1px 1px);clip: rect(1px, 1px, 1px, 1px);height: 1px;margin: -1px;overflow: hidden;padding: 0;position: absolute;width: 1px;}#sk-container-id-2 div.sk-estimator {font-family: monospace;background-color: #f0f8ff;border: 1px dotted black;border-radius: 0.25em;box-sizing: border-box;margin-bottom: 0.5em;}#sk-container-id-2 div.sk-estimator:hover {background-color: #d4ebff;}#sk-container-id-2 div.sk-parallel-item::after {content: \"\";width: 100%;border-bottom: 1px solid gray;flex-grow: 1;}#sk-container-id-2 div.sk-label:hover label.sk-toggleable__label {background-color: #d4ebff;}#sk-container-id-2 div.sk-serial::before {content: \"\";position: absolute;border-left: 1px solid gray;box-sizing: border-box;top: 0;bottom: 0;left: 50%;z-index: 0;}#sk-container-id-2 div.sk-serial {display: flex;flex-direction: column;align-items: center;background-color: white;padding-right: 0.2em;padding-left: 0.2em;position: relative;}#sk-container-id-2 div.sk-item {position: relative;z-index: 1;}#sk-container-id-2 div.sk-parallel {display: flex;align-items: stretch;justify-content: center;background-color: white;position: relative;}#sk-container-id-2 div.sk-item::before, #sk-container-id-2 div.sk-parallel-item::before {content: \"\";position: absolute;border-left: 1px solid gray;box-sizing: border-box;top: 0;bottom: 0;left: 50%;z-index: -1;}#sk-container-id-2 div.sk-parallel-item {display: flex;flex-direction: column;z-index: 1;position: relative;background-color: white;}#sk-container-id-2 div.sk-parallel-item:first-child::after {align-self: flex-end;width: 50%;}#sk-container-id-2 div.sk-parallel-item:last-child::after {align-self: flex-start;width: 50%;}#sk-container-id-2 div.sk-parallel-item:only-child::after {width: 0;}#sk-container-id-2 div.sk-dashed-wrapped {border: 1px dashed gray;margin: 0 0.4em 0.5em 0.4em;box-sizing: border-box;padding-bottom: 0.4em;background-color: white;}#sk-container-id-2 div.sk-label label {font-family: monospace;font-weight: bold;display: inline-block;line-height: 1.2em;}#sk-container-id-2 div.sk-label-container {text-align: center;}#sk-container-id-2 div.sk-container {/* jupyter's `normalize.less` sets `[hidden] { display: none; }` but bootstrap.min.css set `[hidden] { display: none !important; }` so we also need the `!important` here to be able to override the default hidden behavior on the sphinx rendered scikit-learn.org. See: https://github.com/scikit-learn/scikit-learn/issues/21755 */display: inline-block !important;position: relative;}#sk-container-id-2 div.sk-text-repr-fallback {display: none;}</style><div id=\"sk-container-id-2\" class=\"sk-top-container\"><div class=\"sk-text-repr-fallback\"><pre>RandomForestRegressor()</pre><b>In a Jupyter environment, please rerun this cell to show the HTML representation or trust the notebook. <br />On GitHub, the HTML representation is unable to render, please try loading this page with nbviewer.org.</b></div><div class=\"sk-container\" hidden><div class=\"sk-item\"><div class=\"sk-estimator sk-toggleable\"><input class=\"sk-toggleable__control sk-hidden--visually\" id=\"sk-estimator-id-2\" type=\"checkbox\" checked><label for=\"sk-estimator-id-2\" class=\"sk-toggleable__label sk-toggleable__label-arrow\">RandomForestRegressor</label><div class=\"sk-toggleable__content\"><pre>RandomForestRegressor()</pre></div></div></div></div></div>"
            ]
          },
          "metadata": {},
          "execution_count": 17
        }
      ]
    },
    {
      "cell_type": "code",
      "source": [
        "print(model.feature_importances_)"
      ],
      "metadata": {
        "colab": {
          "base_uri": "https://localhost:8080/"
        },
        "id": "4dWas65FbDtf",
        "outputId": "3dcac354-3c3c-48fa-e149-2eb3fee20cdb"
      },
      "execution_count": 18,
      "outputs": [
        {
          "output_type": "stream",
          "name": "stdout",
          "text": [
            "[2.90654718e-03 3.04921127e-02 9.26084834e-03 1.27254969e-02\n",
            " 3.54957006e-03 1.44365792e-04 5.32305723e-06 0.00000000e+00\n",
            " 2.05412443e-07 2.79965227e-05 9.10877208e-06 2.62403407e-03\n",
            " 4.03946414e-04 2.94267874e-01 1.25542128e-03 2.45159102e-03\n",
            " 7.90317616e-04 1.71545628e-03 4.90801599e-04 1.72098617e-03\n",
            " 6.28271818e-04 7.48133885e-04 3.18259963e-03 2.75453441e-04\n",
            " 1.69707930e-03 1.15374157e-03 1.86480812e-03 5.97949685e-04\n",
            " 1.58535576e-03 2.45824270e-03 1.07676218e-03 1.04038774e-03\n",
            " 1.61900720e-03 1.63945668e-03 1.34032402e-03 1.54737472e-03\n",
            " 3.97095550e-04 6.87373344e-04 1.07799565e-03 8.41924432e-04\n",
            " 2.09511917e-03 1.68908908e-03 1.47686427e-03 2.02897383e-03\n",
            " 1.31374672e-03 3.46469691e-03 7.34163880e-04 1.72368060e-04\n",
            " 1.05123748e-03 3.85045998e-04 2.45774645e-04 3.21149265e-04\n",
            " 1.13804774e-03 2.83262946e-04 1.80767602e-04 1.21874375e-03\n",
            " 1.05241218e-03 3.84215603e-04 1.49706644e-03 9.20141882e-04\n",
            " 2.40206488e-03 5.67595815e-04 1.78887202e-04 1.85406118e-04\n",
            " 2.59963124e-04 1.77435104e-03 2.30310936e-04 3.15477814e-04\n",
            " 2.17324327e-04 5.01513954e-04 2.23383733e-04 2.18750003e-03\n",
            " 3.16881214e-04 2.61427157e-04 4.61145349e-04 9.46871525e-04\n",
            " 1.92469228e-03 9.88189944e-04 1.04067323e-03 1.13993895e-03\n",
            " 2.07542698e-04 9.25037868e-04 8.40202449e-04 6.49908862e-04\n",
            " 3.32747786e-04 2.04358917e-03 1.31410737e-03 1.56983984e-03\n",
            " 1.73001711e-03 1.97965945e-03 1.85855609e-03 4.54910154e-03\n",
            " 1.14013694e-02 8.11698495e-04 2.85747969e-04 1.74345063e-04\n",
            " 8.33810542e-04 1.45460755e-04 3.25285112e-04 1.12381223e-04\n",
            " 4.83801893e-04 1.90173972e-04 2.07803509e-04 6.08580677e-04\n",
            " 6.92687696e-05 1.30838992e-04 5.38048448e-05 2.77779540e-04\n",
            " 6.05486067e-04 2.34723794e-05 1.60888990e-04 2.79807197e-05\n",
            " 2.50579539e-05 6.01156472e-05 1.24388148e-04 5.03193337e-05\n",
            " 1.89522742e-04 8.94937914e-05 4.44292001e-05 5.17403985e-05\n",
            " 2.01101133e-04 8.80881719e-06 9.18131545e-05 1.08194529e-04\n",
            " 5.14805251e-04 3.56208466e-06 6.34762715e-05 9.29902432e-05\n",
            " 8.41936803e-06 5.51874875e-06 9.05824335e-06 3.05420042e-05\n",
            " 8.78493808e-06 3.44007616e-05 3.65032705e-05 1.12360086e-05\n",
            " 6.78492014e-05 9.39798518e-06 8.56701892e-05 4.02112844e-04\n",
            " 3.15356361e-04 2.56081756e-05 2.29521492e-05 6.42400981e-05\n",
            " 2.29701896e-04 2.75952994e-05 1.16035908e-05 5.95259877e-05\n",
            " 4.88616036e-04 1.93300142e-04 2.74279321e-06 7.84191940e-05\n",
            " 2.06902359e-04 4.35609717e-07 2.89820570e-04 9.53645531e-05\n",
            " 1.89962248e-05 3.04040484e-05 7.30194625e-05 1.84707643e-04\n",
            " 8.88571095e-04 3.68919868e-05 3.80541307e-04 3.61651243e-04\n",
            " 7.68412292e-04 1.75832921e-05 5.78348805e-05 3.16908472e-04\n",
            " 1.40699403e-03 2.91554566e-04 2.29194377e-06 7.66477180e-04\n",
            " 3.60041214e-03 2.91538406e-04 5.31034522e-05 7.11326574e-05\n",
            " 8.64396554e-05 8.43724331e-06 1.98333793e-05 1.24713759e-05\n",
            " 3.33728228e-05 6.52576842e-06 5.77551168e-05 3.75766761e-04\n",
            " 2.44380297e-04 1.67026335e-06 6.76167575e-06 1.01724922e-04\n",
            " 1.38793403e-03 1.28173115e-02 4.91487914e-03 1.94495345e-03\n",
            " 1.45256034e-03 2.74370301e-03 6.21511742e-03 6.96126834e-04\n",
            " 1.86632752e-03 2.24356998e-03 1.53181085e-03 7.33021273e-04\n",
            " 6.18812808e-03 1.60819110e-03 1.95077600e-03 3.05051354e-03\n",
            " 5.31248851e-03 1.04157945e-01 2.80069429e-02 1.74314582e-03\n",
            " 6.33515244e-03 4.30359379e-04 1.42522418e-03 4.21447883e-04\n",
            " 2.51790837e-03 1.71402763e-03 1.42123450e-03 1.50158961e-03\n",
            " 4.43753097e-03 2.32191919e-04 6.04211356e-04 4.99828882e-03\n",
            " 2.95106703e-03 7.64983952e-03 7.62941831e-03 1.50508164e-02\n",
            " 9.49366174e-03 7.46541188e-03 2.73611361e-03 3.20865312e-03\n",
            " 7.15132796e-03 2.76346702e-03 6.37998626e-03 5.08971715e-03\n",
            " 7.50454198e-03 1.06282709e-02 3.79202655e-03 1.31394864e-02\n",
            " 2.91118572e-03 1.63369286e-03 2.87382137e-03 1.52477801e-03\n",
            " 2.00511834e-03 2.67178120e-03 1.29988801e-03 1.09769912e-03\n",
            " 7.24360410e-04 1.78092273e-03 1.64455251e-03 1.02760893e-03\n",
            " 1.90840556e-03 3.02953222e-03 7.30876906e-04 1.37216894e-03\n",
            " 4.27189175e-03 9.90071669e-07 5.73607058e-05 3.94532014e-05\n",
            " 3.28930447e-05 4.24751688e-07 3.33762979e-05 2.72463970e-04\n",
            " 7.30242734e-05 1.37002935e-05 2.30960290e-05 2.26866693e-04\n",
            " 3.36655252e-04 8.70293553e-07 1.66160392e-04 6.79442201e-04\n",
            " 2.00404526e-03 4.44051199e-06 3.99486447e-04 4.96472561e-05\n",
            " 2.70512034e-05 3.61497093e-05 3.78116848e-06 4.00760162e-05\n",
            " 6.80179314e-05 4.76473436e-06 3.62957927e-05 6.86790200e-05\n",
            " 4.44906784e-05 4.96159063e-06 1.45771219e-05 1.90000628e-05\n",
            " 1.91610162e-05 3.65484587e-03 4.80935434e-04 6.47395253e-04\n",
            " 7.44622252e-04 9.31428221e-05 5.55934713e-04 1.47490441e-04\n",
            " 3.46078395e-04 1.36972341e-04 8.80269199e-05 6.82562025e-05\n",
            " 3.53474004e-05 8.47719456e-05 2.19819560e-04 8.96284132e-05\n",
            " 3.64998008e-04 1.31447168e-03 3.91227744e-04 2.89645505e-04\n",
            " 1.23671643e-04 2.48895000e-04 2.69456214e-04 1.11835438e-03\n",
            " 5.87273326e-04 1.73446945e-04 3.80248846e-04 2.87981937e-04\n",
            " 1.46556440e-03 3.97139612e-04 7.88910201e-04 2.37299720e-03\n",
            " 4.67756874e-03 5.65863559e-05 1.26498247e-04 1.70604541e-04\n",
            " 3.61060894e-04 8.87820652e-05 6.45490910e-05 7.27897527e-05\n",
            " 8.27022685e-05 2.57993149e-04 1.51824226e-04 1.52555531e-04\n",
            " 6.82883887e-05 2.58903368e-05 1.47855616e-03 2.07747263e-04\n",
            " 2.46566332e-04 1.80118379e-03 1.16580390e-03 3.88364441e-03\n",
            " 1.12439459e-03 5.50466440e-04 3.13815213e-03 6.80598054e-04\n",
            " 5.58582823e-04 1.27907504e-03 1.38286533e-03 1.96658794e-04\n",
            " 3.06215319e-04 1.40432479e-04 4.21954872e-04 4.66385146e-04\n",
            " 3.24165436e-03 5.73095649e-04 1.21005637e-04 8.66440513e-05\n",
            " 2.23364841e-04 3.37963973e-05 3.33971391e-04 2.07275353e-04\n",
            " 6.08608807e-04 1.11455080e-04 8.27349539e-05 1.24225061e-04\n",
            " 1.60806332e-04 6.29225995e-05 5.19252359e-05 3.16542375e-04\n",
            " 2.56833777e-03 2.06565374e-05 1.45378811e-05 7.40696514e-06\n",
            " 6.70460721e-06 1.20102934e-04 3.22906755e-05 3.18377345e-05\n",
            " 1.39926743e-05 1.18126856e-05 1.09765359e-05 1.43468667e-05\n",
            " 3.97570950e-05 2.18145783e-05 2.10964881e-06 3.49058735e-06\n",
            " 2.10688677e-05 3.16038924e-03 9.19481859e-04 9.50293208e-04\n",
            " 6.09188268e-04 1.41509581e-03 5.11845242e-04 8.82016651e-04\n",
            " 4.77186018e-04 1.79326613e-03 1.17224750e-03 4.79684659e-04\n",
            " 5.86926661e-04 2.17454398e-03 1.84226584e-03 2.41587872e-03\n",
            " 1.95909171e-03 2.63511593e-03 1.88867346e-03 1.02729348e-04\n",
            " 1.31112656e-03 5.78906703e-03 4.76656656e-04 9.16582051e-04\n",
            " 1.45865937e-03 9.50770764e-04 1.58964070e-04 5.83170231e-04\n",
            " 4.59823731e-04 8.43259788e-04 7.49971031e-04 1.07980057e-03\n",
            " 1.58145674e-03 1.72849020e-03 5.48694702e-04 3.11894933e-04\n",
            " 2.69408974e-04 2.34558968e-04 2.38683045e-05 2.31916188e-04\n",
            " 2.74343105e-04 4.25227105e-04 7.04494024e-05 9.17940317e-05\n",
            " 1.83526120e-04 1.60416144e-04 1.33175974e-04 5.74286614e-04\n",
            " 4.42414086e-04 2.01944301e-03 2.86515639e-03 1.13935868e-03\n",
            " 9.71534932e-04 8.85261760e-04 1.01887036e-03 1.38416651e-03\n",
            " 2.49512774e-03 1.73071377e-03 5.86535114e-04 1.06756255e-03\n",
            " 8.91039691e-03 7.94311654e-04 1.65479543e-03 2.56202554e-03\n",
            " 1.71079162e-02 9.50390979e-04 1.07314830e-03 1.96132585e-04\n",
            " 1.63668026e-04 3.25325219e-04 6.15765786e-04 4.98630593e-04\n",
            " 4.01225762e-04 2.54410402e-04 8.50693669e-05 2.61296931e-04\n",
            " 1.21145205e-04 2.64433401e-04 1.80829510e-04 3.05543374e-04\n",
            " 3.83715959e-04 1.34546420e-04 4.69046156e-05 2.55619654e-05\n",
            " 7.88561295e-05 8.44218255e-05 1.02653611e-04 6.38581291e-05\n",
            " 2.20500731e-04 5.37512490e-05 3.59476612e-05 2.15947332e-05\n",
            " 8.02205131e-05 7.38982574e-05 1.84168766e-04 1.46371763e-04\n",
            " 2.54569782e-05]\n"
          ]
        }
      ]
    },
    {
      "cell_type": "code",
      "source": [
        "feat_importance_red= pd.Series(model.feature_importances_, index= X.columns)"
      ],
      "metadata": {
        "id": "a9VtxwnEbJae"
      },
      "execution_count": 19,
      "outputs": []
    },
    {
      "cell_type": "code",
      "source": [
        "feat_importance_red"
      ],
      "metadata": {
        "colab": {
          "base_uri": "https://localhost:8080/"
        },
        "id": "9QgrlGBNbQQX",
        "outputId": "816ffa89-a78c-4925-d2b9-327c46e98355"
      },
      "execution_count": 20,
      "outputs": [
        {
          "output_type": "execute_result",
          "data": {
            "text/plain": [
              "total_volume                           0.002907\n",
              "brazil                                 0.030492\n",
              "india                                  0.009261\n",
              "vietnam                                0.012725\n",
              "indonesia                              0.003550\n",
              "                                         ...   \n",
              "china_total_price_shift_6_Rolling_7    0.000080\n",
              "china_total_price_shift_7_Rolling_2    0.000074\n",
              "china_total_price_shift_7_Rolling_4    0.000184\n",
              "china_total_price_shift_7_Rolling_6    0.000146\n",
              "china_total_price_shift_7_Rolling_7    0.000025\n",
              "Length: 477, dtype: float64"
            ]
          },
          "metadata": {},
          "execution_count": 20
        }
      ]
    },
    {
      "cell_type": "markdown",
      "source": [
        "Feature Importance for df_yellow"
      ],
      "metadata": {
        "id": "jWQjk_5GbUEW"
      }
    },
    {
      "cell_type": "code",
      "source": [
        "X= df_yellow.drop('price', axis=1)\n",
        "y= df_yellow['price']\n",
        "\n",
        "model= RandomForestRegressor()\n",
        "model.fit(X, y)"
      ],
      "metadata": {
        "colab": {
          "base_uri": "https://localhost:8080/",
          "height": 75
        },
        "id": "qxDYcjjUbTZ-",
        "outputId": "6d9c2bc8-66bf-4561-8fc6-4978f73492d7"
      },
      "execution_count": 21,
      "outputs": [
        {
          "output_type": "execute_result",
          "data": {
            "text/plain": [
              "RandomForestRegressor()"
            ],
            "text/html": [
              "<style>#sk-container-id-3 {color: black;background-color: white;}#sk-container-id-3 pre{padding: 0;}#sk-container-id-3 div.sk-toggleable {background-color: white;}#sk-container-id-3 label.sk-toggleable__label {cursor: pointer;display: block;width: 100%;margin-bottom: 0;padding: 0.3em;box-sizing: border-box;text-align: center;}#sk-container-id-3 label.sk-toggleable__label-arrow:before {content: \"▸\";float: left;margin-right: 0.25em;color: #696969;}#sk-container-id-3 label.sk-toggleable__label-arrow:hover:before {color: black;}#sk-container-id-3 div.sk-estimator:hover label.sk-toggleable__label-arrow:before {color: black;}#sk-container-id-3 div.sk-toggleable__content {max-height: 0;max-width: 0;overflow: hidden;text-align: left;background-color: #f0f8ff;}#sk-container-id-3 div.sk-toggleable__content pre {margin: 0.2em;color: black;border-radius: 0.25em;background-color: #f0f8ff;}#sk-container-id-3 input.sk-toggleable__control:checked~div.sk-toggleable__content {max-height: 200px;max-width: 100%;overflow: auto;}#sk-container-id-3 input.sk-toggleable__control:checked~label.sk-toggleable__label-arrow:before {content: \"▾\";}#sk-container-id-3 div.sk-estimator input.sk-toggleable__control:checked~label.sk-toggleable__label {background-color: #d4ebff;}#sk-container-id-3 div.sk-label input.sk-toggleable__control:checked~label.sk-toggleable__label {background-color: #d4ebff;}#sk-container-id-3 input.sk-hidden--visually {border: 0;clip: rect(1px 1px 1px 1px);clip: rect(1px, 1px, 1px, 1px);height: 1px;margin: -1px;overflow: hidden;padding: 0;position: absolute;width: 1px;}#sk-container-id-3 div.sk-estimator {font-family: monospace;background-color: #f0f8ff;border: 1px dotted black;border-radius: 0.25em;box-sizing: border-box;margin-bottom: 0.5em;}#sk-container-id-3 div.sk-estimator:hover {background-color: #d4ebff;}#sk-container-id-3 div.sk-parallel-item::after {content: \"\";width: 100%;border-bottom: 1px solid gray;flex-grow: 1;}#sk-container-id-3 div.sk-label:hover label.sk-toggleable__label {background-color: #d4ebff;}#sk-container-id-3 div.sk-serial::before {content: \"\";position: absolute;border-left: 1px solid gray;box-sizing: border-box;top: 0;bottom: 0;left: 50%;z-index: 0;}#sk-container-id-3 div.sk-serial {display: flex;flex-direction: column;align-items: center;background-color: white;padding-right: 0.2em;padding-left: 0.2em;position: relative;}#sk-container-id-3 div.sk-item {position: relative;z-index: 1;}#sk-container-id-3 div.sk-parallel {display: flex;align-items: stretch;justify-content: center;background-color: white;position: relative;}#sk-container-id-3 div.sk-item::before, #sk-container-id-3 div.sk-parallel-item::before {content: \"\";position: absolute;border-left: 1px solid gray;box-sizing: border-box;top: 0;bottom: 0;left: 50%;z-index: -1;}#sk-container-id-3 div.sk-parallel-item {display: flex;flex-direction: column;z-index: 1;position: relative;background-color: white;}#sk-container-id-3 div.sk-parallel-item:first-child::after {align-self: flex-end;width: 50%;}#sk-container-id-3 div.sk-parallel-item:last-child::after {align-self: flex-start;width: 50%;}#sk-container-id-3 div.sk-parallel-item:only-child::after {width: 0;}#sk-container-id-3 div.sk-dashed-wrapped {border: 1px dashed gray;margin: 0 0.4em 0.5em 0.4em;box-sizing: border-box;padding-bottom: 0.4em;background-color: white;}#sk-container-id-3 div.sk-label label {font-family: monospace;font-weight: bold;display: inline-block;line-height: 1.2em;}#sk-container-id-3 div.sk-label-container {text-align: center;}#sk-container-id-3 div.sk-container {/* jupyter's `normalize.less` sets `[hidden] { display: none; }` but bootstrap.min.css set `[hidden] { display: none !important; }` so we also need the `!important` here to be able to override the default hidden behavior on the sphinx rendered scikit-learn.org. See: https://github.com/scikit-learn/scikit-learn/issues/21755 */display: inline-block !important;position: relative;}#sk-container-id-3 div.sk-text-repr-fallback {display: none;}</style><div id=\"sk-container-id-3\" class=\"sk-top-container\"><div class=\"sk-text-repr-fallback\"><pre>RandomForestRegressor()</pre><b>In a Jupyter environment, please rerun this cell to show the HTML representation or trust the notebook. <br />On GitHub, the HTML representation is unable to render, please try loading this page with nbviewer.org.</b></div><div class=\"sk-container\" hidden><div class=\"sk-item\"><div class=\"sk-estimator sk-toggleable\"><input class=\"sk-toggleable__control sk-hidden--visually\" id=\"sk-estimator-id-3\" type=\"checkbox\" checked><label for=\"sk-estimator-id-3\" class=\"sk-toggleable__label sk-toggleable__label-arrow\">RandomForestRegressor</label><div class=\"sk-toggleable__content\"><pre>RandomForestRegressor()</pre></div></div></div></div></div>"
            ]
          },
          "metadata": {},
          "execution_count": 21
        }
      ]
    },
    {
      "cell_type": "code",
      "source": [
        "print(model.feature_importances_)"
      ],
      "metadata": {
        "colab": {
          "base_uri": "https://localhost:8080/"
        },
        "id": "u8nbYECbbfy9",
        "outputId": "ecbd5d1d-43d9-4135-dbeb-550d98267f47"
      },
      "execution_count": 22,
      "outputs": [
        {
          "output_type": "stream",
          "name": "stdout",
          "text": [
            "[2.09040241e-03 3.28816999e-02 2.09229011e-02 1.83833786e-02\n",
            " 4.85744786e-03 3.60157735e-03 3.49427288e-05 1.33839750e-05\n",
            " 2.99632351e-05 2.59825270e-06 7.50306113e-05 1.06437090e-05\n",
            " 9.93067572e-05 3.83643843e-01 1.20121632e-02 1.49325743e-03\n",
            " 3.01534410e-04 1.53166013e-03 7.91407380e-04 1.83479806e-03\n",
            " 8.88518050e-04 6.47387011e-04 3.00536579e-04 3.74377704e-04\n",
            " 1.12846732e-03 5.89338500e-04 6.99638478e-04 1.47888185e-03\n",
            " 1.63806105e-03 2.86674155e-03 1.20540949e-03 1.04503127e-03\n",
            " 1.61911521e-03 1.82762679e-03 1.02603958e-03 1.04244605e-03\n",
            " 2.27953756e-03 1.94465313e-03 6.68669058e-04 1.76722878e-03\n",
            " 2.05719046e-03 5.54432262e-04 1.50014098e-03 6.04605226e-03\n",
            " 3.37664651e-03 7.34503522e-04 2.83464775e-04 3.35582826e-04\n",
            " 2.12517229e-04 7.21402735e-04 7.01620760e-04 2.20574775e-04\n",
            " 2.98725012e-04 8.88935774e-04 5.49691351e-04 2.94684583e-04\n",
            " 7.70880930e-04 3.10584016e-04 9.04007915e-04 4.19003189e-04\n",
            " 1.37486188e-04 2.18906914e-04 7.35150282e-05 3.14255949e-05\n",
            " 4.35676300e-04 8.26658784e-05 2.72819058e-04 1.48559813e-04\n",
            " 3.15869986e-04 1.45356255e-04 1.51051606e-04 7.37392223e-04\n",
            " 7.29315994e-04 9.04073008e-05 3.22917353e-04 6.39477029e-04\n",
            " 1.08082634e-03 6.52787980e-03 1.84648892e-03 2.40434270e-03\n",
            " 1.59580152e-03 1.29278681e-03 2.43380138e-04 1.71060934e-03\n",
            " 2.55062226e-03 6.00630607e-04 1.68774353e-03 1.09395205e-03\n",
            " 6.37567588e-03 8.01311484e-04 4.35316444e-03 9.82573588e-03\n",
            " 6.93906178e-03 6.05319983e-04 1.25932513e-04 8.73733907e-05\n",
            " 9.27593703e-05 3.73518790e-04 6.15130601e-05 1.69704097e-04\n",
            " 1.64742401e-04 1.05496565e-04 2.13655579e-04 1.47820216e-04\n",
            " 6.42042658e-04 3.21910344e-04 5.77659522e-04 1.02668519e-03\n",
            " 3.63235894e-03 4.81271341e-04 3.46567767e-04 1.33913396e-03\n",
            " 3.78586903e-05 1.00749305e-04 4.47763228e-04 5.65938842e-04\n",
            " 2.88400097e-05 3.05258572e-04 4.51383344e-05 6.03324754e-05\n",
            " 3.15064855e-04 2.91821614e-04 2.41081766e-04 7.24214541e-04\n",
            " 6.09707300e-04 6.44728969e-06 1.67146619e-04 1.26116676e-05\n",
            " 3.42435592e-04 1.44464054e-05 2.89732226e-05 6.65372243e-06\n",
            " 9.99274991e-05 2.76232211e-06 5.06477823e-06 3.63911605e-06\n",
            " 1.24772120e-05 2.66555502e-05 7.00707361e-06 3.18888432e-05\n",
            " 1.71289123e-04 7.72293463e-05 6.00226053e-05 2.78094292e-05\n",
            " 1.85937562e-04 8.06063729e-06 1.42329135e-05 4.24502007e-05\n",
            " 1.26050104e-04 2.60665218e-07 1.14821117e-04 3.76544791e-06\n",
            " 2.64338878e-05 3.79970541e-07 7.34014064e-06 4.60118321e-05\n",
            " 3.33032906e-05 2.62958787e-04 4.66225931e-05 3.10476675e-04\n",
            " 2.69107638e-04 1.14853365e-04 1.02610512e-06 1.95654011e-04\n",
            " 1.73725352e-03 4.53915355e-06 5.02212614e-04 4.19029619e-05\n",
            " 7.02102722e-04 2.78078243e-05 1.38231622e-05 1.24513713e-03\n",
            " 1.70531049e-03 3.15557923e-06 8.14856883e-06 8.45096487e-05\n",
            " 1.83369857e-05 1.06852647e-06 9.77036655e-06 4.58999298e-05\n",
            " 1.73439310e-05 2.15235538e-05 5.03360652e-05 3.94823523e-05\n",
            " 2.89736881e-05 3.46065065e-05 3.04118577e-06 7.83665555e-05\n",
            " 8.50280634e-05 4.17943036e-02 3.89669448e-03 2.57867174e-03\n",
            " 1.06217821e-03 1.07236174e-03 8.49875018e-04 8.01237919e-04\n",
            " 1.42113638e-03 1.02079390e-03 1.08977202e-03 1.49123401e-03\n",
            " 3.22234888e-03 8.55122390e-04 6.54716483e-04 5.43066183e-03\n",
            " 6.31797332e-03 1.01961500e-02 5.25321580e-03 3.04508744e-03\n",
            " 1.02167856e-03 2.77886030e-04 9.57362523e-04 2.15828353e-04\n",
            " 3.59381201e-04 3.14603541e-04 1.24323904e-03 3.93381261e-04\n",
            " 1.51656367e-03 6.17354620e-04 3.94560688e-03 5.21458105e-03\n",
            " 5.88419062e-03 7.67984346e-03 8.68580664e-03 7.04883900e-03\n",
            " 2.74775877e-03 8.43771938e-03 2.67198184e-03 1.02150745e-03\n",
            " 7.44732292e-03 2.41877846e-03 2.01529514e-03 3.12563525e-03\n",
            " 1.22703339e-02 1.83813278e-03 1.61833624e-03 3.52330591e-03\n",
            " 7.30325755e-03 2.96598527e-03 1.39166047e-03 1.00829106e-03\n",
            " 1.42936376e-03 1.51565832e-03 5.30278098e-04 9.68272454e-04\n",
            " 2.20873924e-03 2.43318621e-03 2.12012135e-03 6.56872154e-04\n",
            " 1.71761697e-03 1.48564143e-03 2.90838381e-03 1.37031154e-03\n",
            " 2.62324478e-03 1.38080029e-07 4.72128844e-06 1.48995341e-05\n",
            " 2.15357730e-06 2.28174597e-06 2.16958714e-06 1.52622890e-05\n",
            " 1.74286686e-05 6.30602161e-06 1.02217602e-05 3.74538358e-05\n",
            " 1.35399628e-04 1.03193766e-05 6.75027855e-05 4.80039598e-04\n",
            " 1.91053479e-05 1.35772929e-06 7.17845030e-06 1.67048231e-04\n",
            " 2.63597498e-04 7.26166130e-06 1.90687653e-05 2.80909086e-04\n",
            " 2.10120244e-04 2.76185190e-05 6.98067857e-06 4.12766369e-05\n",
            " 4.93481427e-05 4.32745944e-06 3.39273195e-05 1.06646003e-04\n",
            " 6.19973223e-05 7.49436278e-04 5.26376042e-05 1.52267674e-03\n",
            " 1.17950149e-03 4.02617475e-04 1.66670178e-05 2.43812753e-04\n",
            " 1.04047625e-03 1.14399569e-05 8.17649453e-05 7.92614908e-05\n",
            " 6.11858629e-05 4.68642821e-05 6.31566975e-05 3.34713763e-04\n",
            " 1.71875736e-03 3.96251083e-03 2.06792856e-03 1.02626674e-03\n",
            " 3.07358193e-04 1.81235071e-03 1.22808524e-03 1.11109911e-03\n",
            " 3.38249352e-04 1.35146653e-03 2.74302367e-04 1.46141179e-03\n",
            " 1.57743598e-03 1.00224248e-03 3.11186991e-03 5.06954764e-03\n",
            " 2.60539614e-03 4.38024825e-05 4.44558131e-05 2.31247143e-05\n",
            " 1.46740268e-04 1.62904755e-05 3.47082839e-04 1.02833379e-04\n",
            " 1.51677252e-04 6.84984356e-05 2.77575822e-05 2.87094149e-04\n",
            " 3.14394846e-04 2.56609597e-04 3.57522622e-05 1.20842449e-03\n",
            " 6.71294098e-04 6.16286938e-04 8.97573494e-04 1.59579322e-03\n",
            " 1.68753311e-03 9.59340798e-04 1.23311900e-03 5.09045395e-04\n",
            " 1.82132077e-04 2.31681258e-04 1.49343654e-03 9.79004808e-04\n",
            " 1.06688821e-03 1.99603647e-04 6.95799644e-03 1.36703602e-03\n",
            " 2.35946310e-03 8.50912711e-04 1.48200953e-04 3.42955049e-05\n",
            " 1.40631683e-04 2.57302680e-04 1.24418995e-04 6.01511202e-04\n",
            " 1.88323882e-05 2.44516927e-04 1.09911401e-04 6.49936150e-04\n",
            " 1.23095345e-03 3.76015231e-04 1.20293807e-03 1.44791194e-03\n",
            " 9.28491234e-04 3.26733804e-05 8.83820119e-04 2.97459009e-05\n",
            " 2.74481149e-04 1.00065410e-03 1.27303304e-05 2.61401472e-05\n",
            " 1.79372970e-04 3.28496527e-05 4.38764150e-05 9.82380299e-06\n",
            " 1.01180369e-04 1.80980584e-04 3.96820879e-04 1.01611848e-04\n",
            " 4.27460406e-04 7.76596505e-04 1.70460796e-03 1.62789287e-03\n",
            " 2.68079340e-03 1.39577821e-03 1.40786026e-03 8.56470721e-04\n",
            " 1.46807476e-03 1.57743034e-03 8.93691154e-04 1.39338264e-03\n",
            " 8.60924272e-04 2.54220710e-03 1.27953834e-03 2.56514431e-03\n",
            " 2.20065711e-03 1.03885476e-03 7.64724039e-04 1.53223267e-03\n",
            " 3.74376177e-04 5.41301783e-04 3.33219675e-04 1.67209017e-03\n",
            " 1.84649561e-04 6.64228263e-04 1.28032657e-04 9.26109983e-04\n",
            " 9.64846586e-05 5.68848579e-04 5.65777085e-05 1.20129147e-04\n",
            " 2.38297481e-03 1.58556971e-04 2.55169054e-04 9.96296966e-04\n",
            " 1.02820960e-04 2.59352325e-04 3.70793546e-05 4.55110541e-04\n",
            " 1.91294944e-04 1.06844642e-04 1.59604254e-04 4.82180678e-04\n",
            " 6.61656918e-04 3.35784034e-04 4.65624102e-04 1.46216914e-03\n",
            " 1.52808430e-03 1.60292425e-03 2.13527521e-03 4.02011241e-03\n",
            " 2.54795396e-03 5.16845254e-04 1.57218799e-03 1.14424035e-03\n",
            " 1.39329877e-03 1.10963219e-03 1.12640560e-03 1.63670163e-03\n",
            " 1.28609545e-03 6.76490569e-04 1.06249817e-03 2.17190238e-03\n",
            " 5.07020381e-03 1.17099430e-03 2.15987025e-04 8.34701244e-05\n",
            " 8.77941648e-04 3.04658735e-04 1.22207637e-03 1.86460712e-05\n",
            " 4.71791093e-04 3.87267530e-04 4.30294498e-04 5.31530334e-04\n",
            " 1.60794651e-03 1.94578522e-04 5.55396819e-04 1.98954413e-03\n",
            " 3.20033519e-03 1.54474918e-04 1.33954131e-03 1.13841640e-04\n",
            " 5.97641718e-04 3.26904022e-04 4.59322408e-04 1.70111845e-04\n",
            " 9.31354182e-05 5.98822945e-04 5.02571389e-05 1.34869600e-04\n",
            " 2.58205976e-04 4.98635586e-04 4.06865426e-04 3.32252640e-04\n",
            " 4.38080811e-04]\n"
          ]
        }
      ]
    },
    {
      "cell_type": "code",
      "source": [
        "feat_importance_yellow= pd.Series(model.feature_importances_, index= X.columns)"
      ],
      "metadata": {
        "id": "zlVz31nUbkNt"
      },
      "execution_count": 23,
      "outputs": []
    },
    {
      "cell_type": "code",
      "source": [
        "feat_importance_yellow"
      ],
      "metadata": {
        "colab": {
          "base_uri": "https://localhost:8080/"
        },
        "id": "VHCySGC9bqWU",
        "outputId": "b31f75b1-6d1d-4e77-d4a8-be7f8d20d58b"
      },
      "execution_count": 24,
      "outputs": [
        {
          "output_type": "execute_result",
          "data": {
            "text/plain": [
              "total_volume                           0.002090\n",
              "brazil                                 0.032882\n",
              "india                                  0.020923\n",
              "vietnam                                0.018383\n",
              "indonesia                              0.004857\n",
              "                                         ...   \n",
              "china_total_price_shift_6_Rolling_7    0.000258\n",
              "china_total_price_shift_7_Rolling_2    0.000499\n",
              "china_total_price_shift_7_Rolling_4    0.000407\n",
              "china_total_price_shift_7_Rolling_6    0.000332\n",
              "china_total_price_shift_7_Rolling_7    0.000438\n",
              "Length: 477, dtype: float64"
            ]
          },
          "metadata": {},
          "execution_count": 24
        }
      ]
    }
  ]
}