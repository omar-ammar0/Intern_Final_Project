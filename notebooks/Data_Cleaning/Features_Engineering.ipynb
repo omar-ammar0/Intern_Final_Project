{
 "cells": [
  {
   "cell_type": "markdown",
   "metadata": {},
   "source": [
    "##  *Features_Engineering*"
   ]
  },
  {
   "cell_type": "code",
   "execution_count": null,
   "metadata": {},
   "outputs": [],
   "source": [
    "%run C:\\Users\\Omar\\Intern_Final_Project\\notebooks\\Data_Cleaning\\Task_1.ipynb\n",
    "\n"
   ]
  },
  {
   "cell_type": "markdown",
   "metadata": {},
   "source": [
    "#### *Adding new features for total price by ( multiplying price by each country's volume)*"
   ]
  },
  {
   "cell_type": "code",
   "execution_count": 61,
   "metadata": {},
   "outputs": [],
   "source": [
    "def total_price():\n",
    "    for col in df:\n",
    "        if col in ['total_volume', 'brazil', 'india', 'vietnam', 'indonesia','china']:\n",
    "            df[f\"{col}_total_price\"]=df[col]*df[\"price\"]\n",
    "\n",
    "\n",
    "total_price()"
   ]
  },
  {
   "cell_type": "code",
   "execution_count": 62,
   "metadata": {},
   "outputs": [
    {
     "data": {
      "text/html": [
       "<div>\n",
       "<style scoped>\n",
       "    .dataframe tbody tr th:only-of-type {\n",
       "        vertical-align: middle;\n",
       "    }\n",
       "\n",
       "    .dataframe tbody tr th {\n",
       "        vertical-align: top;\n",
       "    }\n",
       "\n",
       "    .dataframe thead th {\n",
       "        text-align: right;\n",
       "    }\n",
       "</style>\n",
       "<table border=\"1\" class=\"dataframe\">\n",
       "  <thead>\n",
       "    <tr style=\"text-align: right;\">\n",
       "      <th></th>\n",
       "      <th>price</th>\n",
       "      <th>total_volume</th>\n",
       "      <th>brazil</th>\n",
       "      <th>india</th>\n",
       "      <th>vietnam</th>\n",
       "      <th>indonesia</th>\n",
       "      <th>china</th>\n",
       "      <th>brazil_season</th>\n",
       "      <th>indonesia_season</th>\n",
       "      <th>india_season</th>\n",
       "      <th>...</th>\n",
       "      <th>vietnam_season_3</th>\n",
       "      <th>green</th>\n",
       "      <th>red</th>\n",
       "      <th>yellow</th>\n",
       "      <th>total_volume_total_price</th>\n",
       "      <th>brazil_total_price</th>\n",
       "      <th>india_total_price</th>\n",
       "      <th>vietnam_total_price</th>\n",
       "      <th>indonesia_total_price</th>\n",
       "      <th>china_total_price</th>\n",
       "    </tr>\n",
       "    <tr>\n",
       "      <th>week_end_dt</th>\n",
       "      <th></th>\n",
       "      <th></th>\n",
       "      <th></th>\n",
       "      <th></th>\n",
       "      <th></th>\n",
       "      <th></th>\n",
       "      <th></th>\n",
       "      <th></th>\n",
       "      <th></th>\n",
       "      <th></th>\n",
       "      <th></th>\n",
       "      <th></th>\n",
       "      <th></th>\n",
       "      <th></th>\n",
       "      <th></th>\n",
       "      <th></th>\n",
       "      <th></th>\n",
       "      <th></th>\n",
       "      <th></th>\n",
       "      <th></th>\n",
       "      <th></th>\n",
       "    </tr>\n",
       "  </thead>\n",
       "  <tbody>\n",
       "    <tr>\n",
       "      <th>2016-01-03</th>\n",
       "      <td>6.599075</td>\n",
       "      <td>1596040.2</td>\n",
       "      <td>10793.5</td>\n",
       "      <td>65658.1</td>\n",
       "      <td>1519588.5</td>\n",
       "      <td>0.0</td>\n",
       "      <td>0.0</td>\n",
       "      <td>0</td>\n",
       "      <td>0</td>\n",
       "      <td>0</td>\n",
       "      <td>...</td>\n",
       "      <td>0</td>\n",
       "      <td>1</td>\n",
       "      <td>0</td>\n",
       "      <td>0</td>\n",
       "      <td>1.053239e+07</td>\n",
       "      <td>71227.116013</td>\n",
       "      <td>433282.726258</td>\n",
       "      <td>1.002788e+07</td>\n",
       "      <td>0.0</td>\n",
       "      <td>0.0</td>\n",
       "    </tr>\n",
       "    <tr>\n",
       "      <th>2016-01-03</th>\n",
       "      <td>7.175335</td>\n",
       "      <td>1596040.2</td>\n",
       "      <td>10793.5</td>\n",
       "      <td>65658.1</td>\n",
       "      <td>1519588.5</td>\n",
       "      <td>0.0</td>\n",
       "      <td>0.0</td>\n",
       "      <td>0</td>\n",
       "      <td>0</td>\n",
       "      <td>0</td>\n",
       "      <td>...</td>\n",
       "      <td>0</td>\n",
       "      <td>0</td>\n",
       "      <td>1</td>\n",
       "      <td>0</td>\n",
       "      <td>1.145212e+07</td>\n",
       "      <td>77446.978322</td>\n",
       "      <td>471118.862964</td>\n",
       "      <td>1.090356e+07</td>\n",
       "      <td>0.0</td>\n",
       "      <td>0.0</td>\n",
       "    </tr>\n",
       "    <tr>\n",
       "      <th>2016-01-03</th>\n",
       "      <td>7.300575</td>\n",
       "      <td>1596040.2</td>\n",
       "      <td>10793.5</td>\n",
       "      <td>65658.1</td>\n",
       "      <td>1519588.5</td>\n",
       "      <td>0.0</td>\n",
       "      <td>0.0</td>\n",
       "      <td>0</td>\n",
       "      <td>0</td>\n",
       "      <td>0</td>\n",
       "      <td>...</td>\n",
       "      <td>0</td>\n",
       "      <td>0</td>\n",
       "      <td>0</td>\n",
       "      <td>1</td>\n",
       "      <td>1.165201e+07</td>\n",
       "      <td>78798.756262</td>\n",
       "      <td>479341.883408</td>\n",
       "      <td>1.109387e+07</td>\n",
       "      <td>0.0</td>\n",
       "      <td>0.0</td>\n",
       "    </tr>\n",
       "    <tr>\n",
       "      <th>2016-01-10</th>\n",
       "      <td>7.379675</td>\n",
       "      <td>2295578.0</td>\n",
       "      <td>5677.8</td>\n",
       "      <td>15274.4</td>\n",
       "      <td>2274625.7</td>\n",
       "      <td>0.0</td>\n",
       "      <td>0.0</td>\n",
       "      <td>0</td>\n",
       "      <td>0</td>\n",
       "      <td>0</td>\n",
       "      <td>...</td>\n",
       "      <td>0</td>\n",
       "      <td>0</td>\n",
       "      <td>0</td>\n",
       "      <td>1</td>\n",
       "      <td>1.694062e+07</td>\n",
       "      <td>41900.318715</td>\n",
       "      <td>112720.107820</td>\n",
       "      <td>1.678600e+07</td>\n",
       "      <td>0.0</td>\n",
       "      <td>0.0</td>\n",
       "    </tr>\n",
       "    <tr>\n",
       "      <th>2016-01-10</th>\n",
       "      <td>7.175335</td>\n",
       "      <td>2295578.0</td>\n",
       "      <td>5677.8</td>\n",
       "      <td>15274.4</td>\n",
       "      <td>2274625.7</td>\n",
       "      <td>0.0</td>\n",
       "      <td>0.0</td>\n",
       "      <td>0</td>\n",
       "      <td>0</td>\n",
       "      <td>0</td>\n",
       "      <td>...</td>\n",
       "      <td>0</td>\n",
       "      <td>0</td>\n",
       "      <td>1</td>\n",
       "      <td>0</td>\n",
       "      <td>1.647154e+07</td>\n",
       "      <td>40740.117063</td>\n",
       "      <td>109598.936924</td>\n",
       "      <td>1.632120e+07</td>\n",
       "      <td>0.0</td>\n",
       "      <td>0.0</td>\n",
       "    </tr>\n",
       "  </tbody>\n",
       "</table>\n",
       "<p>5 rows × 30 columns</p>\n",
       "</div>"
      ],
      "text/plain": [
       "                price  total_volume   brazil    india    vietnam  indonesia  \\\n",
       "week_end_dt                                                                   \n",
       "2016-01-03   6.599075     1596040.2  10793.5  65658.1  1519588.5        0.0   \n",
       "2016-01-03   7.175335     1596040.2  10793.5  65658.1  1519588.5        0.0   \n",
       "2016-01-03   7.300575     1596040.2  10793.5  65658.1  1519588.5        0.0   \n",
       "2016-01-10   7.379675     2295578.0   5677.8  15274.4  2274625.7        0.0   \n",
       "2016-01-10   7.175335     2295578.0   5677.8  15274.4  2274625.7        0.0   \n",
       "\n",
       "             china  brazil_season  indonesia_season  india_season  ...  \\\n",
       "week_end_dt                                                        ...   \n",
       "2016-01-03     0.0              0                 0             0  ...   \n",
       "2016-01-03     0.0              0                 0             0  ...   \n",
       "2016-01-03     0.0              0                 0             0  ...   \n",
       "2016-01-10     0.0              0                 0             0  ...   \n",
       "2016-01-10     0.0              0                 0             0  ...   \n",
       "\n",
       "             vietnam_season_3  green  red  yellow  total_volume_total_price  \\\n",
       "week_end_dt                                                                   \n",
       "2016-01-03                  0      1    0       0              1.053239e+07   \n",
       "2016-01-03                  0      0    1       0              1.145212e+07   \n",
       "2016-01-03                  0      0    0       1              1.165201e+07   \n",
       "2016-01-10                  0      0    0       1              1.694062e+07   \n",
       "2016-01-10                  0      0    1       0              1.647154e+07   \n",
       "\n",
       "             brazil_total_price  india_total_price  vietnam_total_price  \\\n",
       "week_end_dt                                                               \n",
       "2016-01-03         71227.116013      433282.726258         1.002788e+07   \n",
       "2016-01-03         77446.978322      471118.862964         1.090356e+07   \n",
       "2016-01-03         78798.756262      479341.883408         1.109387e+07   \n",
       "2016-01-10         41900.318715      112720.107820         1.678600e+07   \n",
       "2016-01-10         40740.117063      109598.936924         1.632120e+07   \n",
       "\n",
       "             indonesia_total_price  china_total_price  \n",
       "week_end_dt                                            \n",
       "2016-01-03                     0.0                0.0  \n",
       "2016-01-03                     0.0                0.0  \n",
       "2016-01-03                     0.0                0.0  \n",
       "2016-01-10                     0.0                0.0  \n",
       "2016-01-10                     0.0                0.0  \n",
       "\n",
       "[5 rows x 30 columns]"
      ]
     },
     "execution_count": 62,
     "metadata": {},
     "output_type": "execute_result"
    }
   ],
   "source": [
    "df.head()"
   ]
  },
  {
   "cell_type": "markdown",
   "metadata": {},
   "source": [
    "---"
   ]
  },
  {
   "cell_type": "markdown",
   "metadata": {},
   "source": [
    "#### *Creating new 3 datasetes ,each dataset represent a specific color of the pepper*"
   ]
  },
  {
   "cell_type": "code",
   "execution_count": 63,
   "metadata": {},
   "outputs": [],
   "source": [
    "df_red=df[df[\"red\"]==1].drop([\"red\",\"yellow\",\"green\"],axis=1)\n",
    "df_green=df[df[\"green\"]==1].drop([\"red\",\"yellow\",\"green\"],axis=1)\n",
    "df_yellow=df[df[\"yellow\"]==1].drop([\"red\",\"yellow\",\"green\"],axis=1)"
   ]
  },
  {
   "cell_type": "code",
   "execution_count": 64,
   "metadata": {},
   "outputs": [
    {
     "name": "stdout",
     "output_type": "stream",
     "text": [
      "(405, 27) (405, 27) (405, 27)\n"
     ]
    }
   ],
   "source": [
    "print(df_red.shape,df_green.shape,df_yellow.shape)"
   ]
  },
  {
   "cell_type": "markdown",
   "metadata": {},
   "source": [
    "---"
   ]
  },
  {
   "cell_type": "markdown",
   "metadata": {},
   "source": [
    "#### *Features Shifting*\n",
    "* *since we are going to forecase the future 4 weeks , the min number of shifs will be 4,hence ;we will do shifting for 5 and 6 weeks as well to see the model performance*"
   ]
  },
  {
   "cell_type": "code",
   "execution_count": 66,
   "metadata": {},
   "outputs": [],
   "source": [
    "shift=[4,5,6]\n",
    "def features_shift():       \n",
    "    \n",
    "        for col in df_red:\n",
    "           for s in shift:\n",
    "               if col not in [\"year\",\"month\",\"week\"]:\n",
    "                    df_red[f\"{col}_shift_{s}\"]=df_red[col].rolling(window=7, min_periods=1).mean().shift(s)\n",
    "                    df_red.dropna(axis=0,how=\"any\",inplace=True)\n",
    "              \n",
    "\n",
    "        for col in df_green:\n",
    "           for s in shift:\n",
    "                if col not in [\"year\",\"month\",\"week\"]:\n",
    "                   df_green[f\"{col}_shift_{s}\"]=df_green[col].rolling(window=7, min_periods=1).mean().shift(s)\n",
    "                   df_green.dropna(axis=0,how=\"any\",inplace=True)\n",
    "\n",
    "        for col in df_yellow:\n",
    "            for s in shift:\n",
    "                if col not in [\"year\",\"month\",\"week\"]:\n",
    "                   df_yellow[f\"{col}_shift_{s}\"]=df_yellow[col].rolling(window=7, min_periods=1).mean().shift(s)\n",
    "                   df_yellow.dropna(axis=0,how=\"any\",inplace=True)\n",
    "\n",
    "\n",
    "\n",
    "features_shift()"
   ]
  },
  {
   "cell_type": "code",
   "execution_count": 67,
   "metadata": {},
   "outputs": [
    {
     "name": "stdout",
     "output_type": "stream",
     "text": [
      "(45, 99) (45, 99) (45, 99)\n"
     ]
    }
   ],
   "source": [
    "print(df_red.shape,df_green.shape,df_yellow.shape)"
   ]
  },
  {
   "cell_type": "code",
   "execution_count": 68,
   "metadata": {},
   "outputs": [],
   "source": [
    "features_to_drop=['total_volume','brazil','india','vietnam','indonesia','china','brazil_season','indonesia_season','india_season',\n",
    "                  'china_season','jordan_max_price','jordan_min_price','demand','supply','vietnam_season_1','vietnam_season_2',\n",
    "                  'vietnam_season_3','total_volume_total_price','brazil_total_price','india_total_price','vietnam_total_price','indonesia_total_price',\n",
    "                  'china_total_price']"
   ]
  },
  {
   "cell_type": "code",
   "execution_count": 69,
   "metadata": {},
   "outputs": [],
   "source": [
    "def features_drop():\n",
    "      df_red.drop(features_to_drop,axis=1,inplace=True)\n",
    "      df_green.drop(features_to_drop,axis=1,inplace=True)    \n",
    "      df_yellow.drop(features_to_drop,axis=1,inplace=True) \n",
    "\n",
    "\n",
    "\n",
    "features_drop()     "
   ]
  },
  {
   "cell_type": "code",
   "execution_count": 70,
   "metadata": {},
   "outputs": [
    {
     "name": "stdout",
     "output_type": "stream",
     "text": [
      "(45, 76) (45, 76) (45, 76)\n"
     ]
    }
   ],
   "source": [
    "print(df_red.shape,df_green.shape,df_yellow.shape)"
   ]
  }
 ],
 "metadata": {
  "kernelspec": {
   "display_name": "Python 3",
   "language": "python",
   "name": "python3"
  },
  "language_info": {
   "codemirror_mode": {
    "name": "ipython",
    "version": 3
   },
   "file_extension": ".py",
   "mimetype": "text/x-python",
   "name": "python",
   "nbconvert_exporter": "python",
   "pygments_lexer": "ipython3",
   "version": "3.11.4"
  }
 },
 "nbformat": 4,
 "nbformat_minor": 2
}
