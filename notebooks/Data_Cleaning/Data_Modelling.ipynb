{
 "cells": [
  {
   "cell_type": "code",
   "execution_count": null,
   "metadata": {},
   "outputs": [],
   "source": [
    "%run C:\\Users\\Omar\\Intern_Final_Project\\notebooks\\Data_Cleaning\\Features_Engineering.ipynb"
   ]
  },
  {
   "cell_type": "markdown",
   "metadata": {},
   "source": [
    "### *cross validation*"
   ]
  },
  {
   "cell_type": "markdown",
   "metadata": {},
   "source": [
    "*We will keep the last 16 rows of the dataset and do a Rolling Moving Origin of step size of 4*\n"
   ]
  },
  {
   "cell_type": "markdown",
   "metadata": {},
   "source": [
    "*lets explain this visually*"
   ]
  },
  {
   "cell_type": "code",
   "execution_count": 17,
   "metadata": {},
   "outputs": [],
   "source": [
    "from sklearn.model_selection import TimeSeriesSplit"
   ]
  },
  {
   "cell_type": "code",
   "execution_count": 18,
   "metadata": {},
   "outputs": [
    {
     "name": "stdout",
     "output_type": "stream",
     "text": [
      "Fold 0:\n",
      "  Train: index=[0 1 2 3]\n",
      "  Test:  index=[4 5 6 7]\n",
      "Fold 1:\n",
      "  Train: index=[0 1 2 3 4 5 6 7]\n",
      "  Test:  index=[ 8  9 10 11]\n",
      "Fold 2:\n",
      "  Train: index=[ 0  1  2  3  4  5  6  7  8  9 10 11]\n",
      "  Test:  index=[12 13 14 15]\n"
     ]
    }
   ],
   "source": [
    "test_data_red=df_red[-16:]\n",
    "#####\n",
    "X = test_data_red.drop(\"price\",axis=1)\n",
    "y = test_data_red[\"price\"]\n",
    "date=test_data_red.reset_index()[\"week_end_dt\"]\n",
    "tscv = TimeSeriesSplit(n_splits=3,max_train_size=16,test_size=4,gap=0)\n",
    "for i, (train_index, test_index) in enumerate(tscv.split(X)):\n",
    "     print(f\"Fold {i}:\")\n",
    "     print(f\"  Train: index={train_index}\")\n",
    "     print(f\"  Test:  index={test_index}\")"
   ]
  },
  {
   "cell_type": "markdown",
   "metadata": {},
   "source": [
    "The above code out come expresess how the cross validation works ,\n",
    "1st fold : we consider the 4 intial points as train data and the next 4 points as test data\n",
    "2ns fold : the test points from the prevuoys fold we be appened to the new train points asnd new points ahead are test points\n",
    "3rd fold : works as metioned above\n",
    "\n",
    "The below chart is ease the process:\n"
   ]
  },
  {
   "cell_type": "code",
   "execution_count": 19,
   "metadata": {},
   "outputs": [
    {
     "data": {
      "image/png": "[encoded data removed]",
      "text/plain": [
       "<Figure size 1800x500 with 1 Axes>"
      ]
     },
     "metadata": {},
     "output_type": "display_data"
    }
   ],
   "source": [
    "cmap_data = plt.cm.Paired\n",
    "cmap_cv = plt.cm.coolwarm\n",
    "\n",
    "def plot_cv_indices(cv, n_splits, X, y):\n",
    "    fig, ax = plt.subplots(1, 1, figsize = (18, 5))\n",
    "    for ii, (tr, tt) in enumerate(cv.split(X=X, y=y)):\n",
    "        indices = np.array([np.nan] * len(X))\n",
    "        indices[tt] = 1\n",
    "        indices[tr] = 0\n",
    "\n",
    "        ax.scatter(range(len(indices)), [ii + .5] * len(indices),\n",
    "                   c=indices, marker='_', lw=10, cmap=cmap_cv,\n",
    "                   vmin=-.2, vmax=1.2)\n",
    "        \n",
    "plot_cv_indices(cv=tscv,n_splits=3,X=X,y=y)"
   ]
  },
  {
   "cell_type": "markdown",
   "metadata": {},
   "source": [
    "---\n",
    "importing needed libraries"
   ]
  },
  {
   "cell_type": "code",
   "execution_count": 20,
   "metadata": {},
   "outputs": [],
   "source": [
    "from sklearn.metrics import mean_absolute_percentage_error\n",
    "from sklearn.ensemble import RandomForestRegressor,AdaBoostRegressor\n",
    "from catboost import CatBoostRegressor\n",
    "from sklearn.tree import DecisionTreeRegressor\n",
    "import xgboost as xgb\n",
    "from xgboost import plot_tree,plot_importance,XGBRegressor,XGBRFRegressor\n",
    "from sklearn.linear_model import LinearRegression,LogisticRegression,SGDRegressor\n",
    "from sklearn.svm import SVR\n",
    "from sklearn.model_selection import GridSearchCV,RandomizedSearchCV\n",
    "from lightgbm.sklearn import LGBMRegressor\n",
    "import warnings                                  \n",
    "warnings.filterwarnings('ignore')"
   ]
  },
  {
   "cell_type": "code",
   "execution_count": 21,
   "metadata": {},
   "outputs": [],
   "source": [
    "tscv = TimeSeriesSplit(n_splits=3,max_train_size=16,test_size=4,gap=0)"
   ]
  },
  {
   "cell_type": "code",
   "execution_count": null,
   "metadata": {},
   "outputs": [],
   "source": [
    "mape_scores = []\n",
    "\n",
    "models_names=[\"DecisionTreeRegressor\",\"RandomForestRegressor\",\"SVR()\",\"LinearRegression\",\"XGBRegressor_boo\",\n",
    "                    \"XGBRFRegressor_boo\",\"AdaBoostRegressor_boo\",\"LGBMRegressor_boo\",\"CatBoostRegressor_boo\"]\n",
    "              \n",
    "models=[DecisionTreeRegressor(random_state=0),RandomForestRegressor(random_state=0),SVR(),LinearRegression(),XGBRegressor(random_state=0),\n",
    "                XGBRFRegressor(random_state=0),AdaBoostRegressor(random_state=0),LGBMRegressor(force_row_wise=True),CatBoostRegressor()]\n",
    "\n",
    "test_data_red=df_red[-16:]      \n",
    "time_series_data_red = test_data_red.values\n",
    "\n",
    "for train_index, test_index in tscv.split(time_series_data_red):\n",
    "              X_train, y_train = time_series_data_red[train_index, 1:], time_series_data_red[train_index, 0]\n",
    "              X_test, y_test = time_series_data_red[test_index, 1:], time_series_data_red[test_index, 0]\n",
    "\n",
    "        \n",
    "for model in models:\n",
    "              model.fit(X_train, y_train)\n",
    "              y_pred_red = model.predict(X_test)\n",
    "\n",
    "              mape = np.mean(mean_absolute_percentage_error(y_test, y_pred_red))\n",
    "              mape_scores.append(mape)\n",
    "\n",
    "              red_results=pd.concat([pd.DataFrame(models_names,columns=[\"models_names\"]),pd.DataFrame(mape_scores,columns=[\"mape_scores\"])],axis=1)"
   ]
  },
  {
   "cell_type": "code",
   "execution_count": null,
   "metadata": {},
   "outputs": [],
   "source": [
    "mape_scores = []\n",
    "\n",
    "models_names=[\"DecisionTreeRegressor\",\"RandomForestRegressor\",\"SVR()\",\"LinearRegression\",\"XGBRegressor_boo\",\n",
    "                    \"XGBRFRegressor_boo\",\"AdaBoostRegressor_boo\",\"LGBMRegressor_boo\",\"CatBoostRegressor_boo\"]\n",
    "              \n",
    "models=[DecisionTreeRegressor(random_state=0),RandomForestRegressor(random_state=0),SVR(),LinearRegression(),XGBRegressor(random_state=0),\n",
    "                XGBRFRegressor(random_state=0),AdaBoostRegressor(random_state=0),LGBMRegressor(force_row_wise=True),CatBoostRegressor()]\n",
    "     \n",
    "test_data_green=df_green[-16:]\n",
    "time_series_data_green = test_data_green.values\n",
    "\n",
    "for train_index, test_index in tscv.split(time_series_data_green):\n",
    "              X_train, y_train = time_series_data_green[train_index, 1:], time_series_data_green[train_index, 0]\n",
    "              X_test, y_test = time_series_data_green[test_index, 1:], time_series_data_green[test_index, 0]\n",
    "        \n",
    "        \n",
    "for model in models:\n",
    "              model.fit(X_train, y_train)\n",
    "              y_pred_green = model.predict(X_test)\n",
    "\n",
    "              mape = np.mean(mean_absolute_percentage_error(y_test, y_pred_green))\n",
    "              mape_scores.append(mape)\n",
    "\n",
    "              green_results=pd.concat([pd.DataFrame(models_names,columns=[\"models_names\"]),pd.DataFrame(mape_scores,columns=[\"mape_scores\"])],axis=1)"
   ]
  },
  {
   "cell_type": "code",
   "execution_count": null,
   "metadata": {},
   "outputs": [],
   "source": [
    "mape_scores = []\n",
    "y_pred_yellow_results=[]\n",
    "\n",
    "models_names=[\"DecisionTreeRegressor\",\"RandomForestRegressor\",\"SVR()\",\"LinearRegression\",\"XGBRegressor_boo\",\n",
    "                  \"XGBRFRegressor_boo\",\"AdaBoostRegressor_boo\",\"LGBMRegressor_boo\",\"CatBoostRegressor_boo\"]\n",
    "              \n",
    "models=[DecisionTreeRegressor(random_state=0),RandomForestRegressor(random_state=0),SVR(),LinearRegression(),XGBRegressor(random_state=0),\n",
    "            XGBRFRegressor(random_state=0),AdaBoostRegressor(random_state=0),LGBMRegressor(force_row_wise=True),CatBoostRegressor()]\n",
    "     \n",
    "test_data_yellow=df_yellow[-16:]\n",
    "time_series_data_yellow = test_data_yellow.values\n",
    "\n",
    "for train_index, test_index in tscv.split(time_series_data_yellow):\n",
    "              X_train, y_train = time_series_data_yellow[train_index, 1:], time_series_data_yellow[train_index, 0]\n",
    "              X_test, y_test = time_series_data_yellow[test_index, 1:], time_series_data_yellow[test_index, 0]\n",
    "        \n",
    "\n",
    "for model in models:\n",
    "              model.fit(X_train, y_train)\n",
    "              y_pred_yellow = model.predict(X_test)\n",
    "              y_pred_yellow_results.append(y_pred_yellow)\n",
    "\n",
    "\n",
    "\n",
    "              mape = np.mean(mean_absolute_percentage_error(y_test, y_pred_yellow))\n",
    "              mape_scores.append(mape)\n",
    "\n",
    "              yellow_results=pd.concat([pd.DataFrame(models_names,columns=[\"models_names\"]),pd.DataFrame(mape_scores,columns=[\"mape_scores\"])],axis=1)"
   ]
  },
  {
   "cell_type": "code",
   "execution_count": 26,
   "metadata": {},
   "outputs": [
    {
     "data": {
      "text/html": [
       "<div>\n",
       "<style scoped>\n",
       "    .dataframe tbody tr th:only-of-type {\n",
       "        vertical-align: middle;\n",
       "    }\n",
       "\n",
       "    .dataframe tbody tr th {\n",
       "        vertical-align: top;\n",
       "    }\n",
       "\n",
       "    .dataframe thead th {\n",
       "        text-align: right;\n",
       "    }\n",
       "</style>\n",
       "<table border=\"1\" class=\"dataframe\">\n",
       "  <thead>\n",
       "    <tr style=\"text-align: right;\">\n",
       "      <th></th>\n",
       "      <th>models_names</th>\n",
       "      <th>mape_scores</th>\n",
       "    </tr>\n",
       "  </thead>\n",
       "  <tbody>\n",
       "    <tr>\n",
       "      <th>5</th>\n",
       "      <td>XGBRFRegressor_boo</td>\n",
       "      <td>0.032385</td>\n",
       "    </tr>\n",
       "    <tr>\n",
       "      <th>4</th>\n",
       "      <td>XGBRegressor_boo</td>\n",
       "      <td>0.037500</td>\n",
       "    </tr>\n",
       "    <tr>\n",
       "      <th>1</th>\n",
       "      <td>RandomForestRegressor</td>\n",
       "      <td>0.045146</td>\n",
       "    </tr>\n",
       "    <tr>\n",
       "      <th>0</th>\n",
       "      <td>DecisionTreeRegressor</td>\n",
       "      <td>0.046297</td>\n",
       "    </tr>\n",
       "    <tr>\n",
       "      <th>6</th>\n",
       "      <td>AdaBoostRegressor_boo</td>\n",
       "      <td>0.054156</td>\n",
       "    </tr>\n",
       "    <tr>\n",
       "      <th>8</th>\n",
       "      <td>CatBoostRegressor_boo</td>\n",
       "      <td>0.067109</td>\n",
       "    </tr>\n",
       "    <tr>\n",
       "      <th>3</th>\n",
       "      <td>LinearRegression</td>\n",
       "      <td>0.093043</td>\n",
       "    </tr>\n",
       "    <tr>\n",
       "      <th>2</th>\n",
       "      <td>SVR()</td>\n",
       "      <td>0.098563</td>\n",
       "    </tr>\n",
       "    <tr>\n",
       "      <th>7</th>\n",
       "      <td>LGBMRegressor_boo</td>\n",
       "      <td>0.147098</td>\n",
       "    </tr>\n",
       "  </tbody>\n",
       "</table>\n",
       "</div>"
      ],
      "text/plain": [
       "            models_names  mape_scores\n",
       "5     XGBRFRegressor_boo     0.032385\n",
       "4       XGBRegressor_boo     0.037500\n",
       "1  RandomForestRegressor     0.045146\n",
       "0  DecisionTreeRegressor     0.046297\n",
       "6  AdaBoostRegressor_boo     0.054156\n",
       "8  CatBoostRegressor_boo     0.067109\n",
       "3       LinearRegression     0.093043\n",
       "2                  SVR()     0.098563\n",
       "7      LGBMRegressor_boo     0.147098"
      ]
     },
     "execution_count": 26,
     "metadata": {},
     "output_type": "execute_result"
    }
   ],
   "source": [
    "red_results.sort_values(by=\"mape_scores\")"
   ]
  },
  {
   "cell_type": "code",
   "execution_count": 27,
   "metadata": {},
   "outputs": [
    {
     "data": {
      "text/html": [
       "<div>\n",
       "<style scoped>\n",
       "    .dataframe tbody tr th:only-of-type {\n",
       "        vertical-align: middle;\n",
       "    }\n",
       "\n",
       "    .dataframe tbody tr th {\n",
       "        vertical-align: top;\n",
       "    }\n",
       "\n",
       "    .dataframe thead th {\n",
       "        text-align: right;\n",
       "    }\n",
       "</style>\n",
       "<table border=\"1\" class=\"dataframe\">\n",
       "  <thead>\n",
       "    <tr style=\"text-align: right;\">\n",
       "      <th></th>\n",
       "      <th>models_names</th>\n",
       "      <th>mape_scores</th>\n",
       "    </tr>\n",
       "  </thead>\n",
       "  <tbody>\n",
       "    <tr>\n",
       "      <th>6</th>\n",
       "      <td>AdaBoostRegressor_boo</td>\n",
       "      <td>0.011218</td>\n",
       "    </tr>\n",
       "    <tr>\n",
       "      <th>5</th>\n",
       "      <td>XGBRFRegressor_boo</td>\n",
       "      <td>0.012867</td>\n",
       "    </tr>\n",
       "    <tr>\n",
       "      <th>1</th>\n",
       "      <td>RandomForestRegressor</td>\n",
       "      <td>0.015844</td>\n",
       "    </tr>\n",
       "    <tr>\n",
       "      <th>8</th>\n",
       "      <td>CatBoostRegressor_boo</td>\n",
       "      <td>0.022009</td>\n",
       "    </tr>\n",
       "    <tr>\n",
       "      <th>0</th>\n",
       "      <td>DecisionTreeRegressor</td>\n",
       "      <td>0.028126</td>\n",
       "    </tr>\n",
       "    <tr>\n",
       "      <th>4</th>\n",
       "      <td>XGBRegressor_boo</td>\n",
       "      <td>0.029396</td>\n",
       "    </tr>\n",
       "    <tr>\n",
       "      <th>2</th>\n",
       "      <td>SVR()</td>\n",
       "      <td>0.056621</td>\n",
       "    </tr>\n",
       "    <tr>\n",
       "      <th>3</th>\n",
       "      <td>LinearRegression</td>\n",
       "      <td>0.083073</td>\n",
       "    </tr>\n",
       "    <tr>\n",
       "      <th>7</th>\n",
       "      <td>LGBMRegressor_boo</td>\n",
       "      <td>0.092160</td>\n",
       "    </tr>\n",
       "  </tbody>\n",
       "</table>\n",
       "</div>"
      ],
      "text/plain": [
       "            models_names  mape_scores\n",
       "6  AdaBoostRegressor_boo     0.011218\n",
       "5     XGBRFRegressor_boo     0.012867\n",
       "1  RandomForestRegressor     0.015844\n",
       "8  CatBoostRegressor_boo     0.022009\n",
       "0  DecisionTreeRegressor     0.028126\n",
       "4       XGBRegressor_boo     0.029396\n",
       "2                  SVR()     0.056621\n",
       "3       LinearRegression     0.083073\n",
       "7      LGBMRegressor_boo     0.092160"
      ]
     },
     "execution_count": 27,
     "metadata": {},
     "output_type": "execute_result"
    }
   ],
   "source": [
    "green_results.sort_values(by=\"mape_scores\")"
   ]
  },
  {
   "cell_type": "code",
   "execution_count": 28,
   "metadata": {},
   "outputs": [
    {
     "data": {
      "text/html": [
       "<div>\n",
       "<style scoped>\n",
       "    .dataframe tbody tr th:only-of-type {\n",
       "        vertical-align: middle;\n",
       "    }\n",
       "\n",
       "    .dataframe tbody tr th {\n",
       "        vertical-align: top;\n",
       "    }\n",
       "\n",
       "    .dataframe thead th {\n",
       "        text-align: right;\n",
       "    }\n",
       "</style>\n",
       "<table border=\"1\" class=\"dataframe\">\n",
       "  <thead>\n",
       "    <tr style=\"text-align: right;\">\n",
       "      <th></th>\n",
       "      <th>models_names</th>\n",
       "      <th>mape_scores</th>\n",
       "    </tr>\n",
       "  </thead>\n",
       "  <tbody>\n",
       "    <tr>\n",
       "      <th>0</th>\n",
       "      <td>DecisionTreeRegressor</td>\n",
       "      <td>0.061649</td>\n",
       "    </tr>\n",
       "    <tr>\n",
       "      <th>6</th>\n",
       "      <td>AdaBoostRegressor_boo</td>\n",
       "      <td>0.061649</td>\n",
       "    </tr>\n",
       "    <tr>\n",
       "      <th>4</th>\n",
       "      <td>XGBRegressor_boo</td>\n",
       "      <td>0.062834</td>\n",
       "    </tr>\n",
       "    <tr>\n",
       "      <th>5</th>\n",
       "      <td>XGBRFRegressor_boo</td>\n",
       "      <td>0.069128</td>\n",
       "    </tr>\n",
       "    <tr>\n",
       "      <th>1</th>\n",
       "      <td>RandomForestRegressor</td>\n",
       "      <td>0.090017</td>\n",
       "    </tr>\n",
       "    <tr>\n",
       "      <th>8</th>\n",
       "      <td>CatBoostRegressor_boo</td>\n",
       "      <td>0.122776</td>\n",
       "    </tr>\n",
       "    <tr>\n",
       "      <th>7</th>\n",
       "      <td>LGBMRegressor_boo</td>\n",
       "      <td>0.205554</td>\n",
       "    </tr>\n",
       "    <tr>\n",
       "      <th>2</th>\n",
       "      <td>SVR()</td>\n",
       "      <td>0.210404</td>\n",
       "    </tr>\n",
       "    <tr>\n",
       "      <th>3</th>\n",
       "      <td>LinearRegression</td>\n",
       "      <td>0.523317</td>\n",
       "    </tr>\n",
       "  </tbody>\n",
       "</table>\n",
       "</div>"
      ],
      "text/plain": [
       "            models_names  mape_scores\n",
       "0  DecisionTreeRegressor     0.061649\n",
       "6  AdaBoostRegressor_boo     0.061649\n",
       "4       XGBRegressor_boo     0.062834\n",
       "5     XGBRFRegressor_boo     0.069128\n",
       "1  RandomForestRegressor     0.090017\n",
       "8  CatBoostRegressor_boo     0.122776\n",
       "7      LGBMRegressor_boo     0.205554\n",
       "2                  SVR()     0.210404\n",
       "3       LinearRegression     0.523317"
      ]
     },
     "execution_count": 28,
     "metadata": {},
     "output_type": "execute_result"
    }
   ],
   "source": [
    "yellow_results.sort_values(by=\"mape_scores\")"
   ]
  },
  {
   "cell_type": "markdown",
   "metadata": {},
   "source": [
    "###  *Hyperparamers tunning*"
   ]
  },
  {
   "cell_type": "markdown",
   "metadata": {},
   "source": [
    "#### *We will consider the best model performed above for each color*"
   ]
  },
  {
   "cell_type": "markdown",
   "metadata": {},
   "source": [
    "##### *Red color*"
   ]
  },
  {
   "cell_type": "code",
   "execution_count": 37,
   "metadata": {},
   "outputs": [
    {
     "name": "stdout",
     "output_type": "stream",
     "text": [
      "The best parameters are : {'subsample': 0.6, 'num_parallel_tree': 150, 'n_estimators': 100, 'max_depth': 10, 'colsample_bynode': 0.6}\n",
      "The new mean_absolute_percentage_error after using the best parametes is:  0.04786535249199094\n"
     ]
    }
   ],
   "source": [
    "time_series_data_red = test_data_red.values\n",
    "tscv = TimeSeriesSplit(n_splits=3,max_train_size=16,test_size=4,gap=0)\n",
    "\n",
    "\n",
    "for train_index, test_index in tscv.split(time_series_data_red):\n",
    "              X_train, y_train = time_series_data_red[train_index, 1:], time_series_data_red[train_index, 0]\n",
    "              X_test, y_test = time_series_data_red[test_index, 1:], time_series_data_red[test_index, 0]\n",
    "\n",
    "              xgbrfregressor_parm=[{\"n_estimators\":[10,20,50,75,100,200],\n",
    "                                       \"max_depth\":[5,10,15,20],\n",
    "                                       \"num_parallel_tree\":[50,100,150,200],\n",
    "                                       \"subsample\": [.7,.8,.9,.6,.5],\n",
    "                                       \"colsample_bynode\": [.7,.8,.9,.6,.5] }]\n",
    "                                           \n",
    "               \n",
    "              xgbrfregressor_RandoSeaCV=RandomizedSearchCV(XGBRFRegressor(),param_distributions=xgbrfregressor_parm,n_jobs=-1,cv=4,random_state=0)\n",
    "              xgbrfregressor_RandoSeaCV.fit(X_train, y_train)\n",
    "              new_xgbrfregressor=xgbrfregressor_RandoSeaCV.best_estimator_.fit(X_train, y_train)\n",
    "              new_xgbrfregressor.predict(X_test)\n",
    "\n",
    "\n",
    "\n",
    "print(\"The best parameters are :\",xgbrfregressor_RandoSeaCV.best_params_)\n",
    "print(\"The new mean_absolute_percentage_error after using the best parametes is: \",mean_absolute_percentage_error(y_test,new_xgbrfregressor.predict(X_test)))"
   ]
  },
  {
   "cell_type": "markdown",
   "metadata": {},
   "source": [
    "##### *Green color*"
   ]
  },
  {
   "cell_type": "code",
   "execution_count": 38,
   "metadata": {},
   "outputs": [
    {
     "name": "stdout",
     "output_type": "stream",
     "text": [
      "The best parameters are : {'n_estimators': 50, 'loss': 'linear', 'learning_rate': 0.1}\n",
      "The new mean_absolute_percentage_error after using the best parametes is:  0.022965907595406166\n"
     ]
    }
   ],
   "source": [
    "time_series_data_green = test_data_green.values\n",
    "tscv = TimeSeriesSplit(n_splits=3,max_train_size=16,test_size=4,gap=0)\n",
    "\n",
    "\n",
    "for train_index, test_index in tscv.split(time_series_data_green):\n",
    "              X_train, y_train = time_series_data_green[train_index, 1:], time_series_data_green[train_index, 0]\n",
    "              X_test, y_test = time_series_data_green[test_index, 1:], time_series_data_green[test_index, 0]\n",
    "\n",
    "              AdaBoostRegressor_parm=[{\"n_estimators\":[10,20,50,75,100,200],\n",
    "                                       #\"estimator\":[\" DecisionTreeRegressor\",\"LinearRegression\",\"SVR\"],\n",
    "                                       \"learning_rate\":[0.1,.01,.001,.0125,0.0058],\n",
    "                                       \"loss\":['linear', 'square', 'exponential'] }]     \n",
    "               \n",
    "              AdaBoostRegressor_RandoSeaCV=RandomizedSearchCV(AdaBoostRegressor(random_state=0),param_distributions=AdaBoostRegressor_parm,n_jobs=-1,cv=4,random_state=0)\n",
    "              AdaBoostRegressor_RandoSeaCV.fit(X_train, y_train)\n",
    "              new_AdaBoostRegressor=AdaBoostRegressor_RandoSeaCV.best_estimator_.fit(X_train, y_train)\n",
    "              new_AdaBoostRegressor.predict(X_test)\n",
    "\n",
    "\n",
    "\n",
    "\n",
    "print(\"The best parameters are :\",AdaBoostRegressor_RandoSeaCV.best_params_)\n",
    "print(\"The new mean_absolute_percentage_error after using the best parametes is: \",mean_absolute_percentage_error(y_test,new_AdaBoostRegressor.predict(X_test)))"
   ]
  },
  {
   "cell_type": "markdown",
   "metadata": {},
   "source": [
    "##### *Yellow color*"
   ]
  },
  {
   "cell_type": "code",
   "execution_count": 40,
   "metadata": {},
   "outputs": [
    {
     "name": "stdout",
     "output_type": "stream",
     "text": [
      "The best parameters are : {'min_samples_split': 40, 'max_features': 'log2', 'max_depth': 157}\n",
      "The new mean_absolute_percentage_error after using the best parametes is:  0.20555367650795453\n"
     ]
    }
   ],
   "source": [
    "time_series_data_yellow = test_data_yellow.values\n",
    "tscv = TimeSeriesSplit(n_splits=3,max_train_size=16,test_size=4,gap=0)\n",
    "\n",
    "\n",
    "for train_index, test_index in tscv.split(time_series_data_yellow):\n",
    "              X_train, y_train = time_series_data_yellow[train_index, 1:], time_series_data_yellow[train_index, 0]\n",
    "              X_test, y_test = time_series_data_yellow[test_index, 1:], time_series_data_yellow[test_index, 0]\n",
    "\n",
    "              DecisionTreeRegressor_parm=[{\n",
    "                    \"min_samples_split\":[2,10,20,30,40,50],                                          \n",
    "                    \"max_features\":[\"sqrt\",\"log2\"],                                     \n",
    "                     \"max_depth\":[int(x) for x in np.linspace(start=10,stop=200,num=10)]}]       \n",
    "              DecisionTreeRegressor_RandoSeaCV=RandomizedSearchCV(DecisionTreeRegressor(random_state=0),param_distributions=DecisionTreeRegressor_parm,n_jobs=-1,cv=4,random_state=0)\n",
    "              DecisionTreeRegressor_RandoSeaCV.fit(X_train, y_train)   \n",
    "              new_DecisionTreeRegressor=DecisionTreeRegressor_RandoSeaCV.best_estimator_.fit(X_train, y_train)\n",
    "              new_DecisionTreeRegressor.predict(X_test)\n",
    "\n",
    "\n",
    "\n",
    "\n",
    "print(\"The best parameters are :\",DecisionTreeRegressor_RandoSeaCV.best_params_)\n",
    "print(\"The new mean_absolute_percentage_error after using the best parametes is: \",mean_absolute_percentage_error(y_test,new_DecisionTreeRegressor.predict(X_test)))\n",
    "\n",
    "           "
   ]
  },
  {
   "cell_type": "code",
   "execution_count": null,
   "metadata": {},
   "outputs": [],
   "source": []
  }
 ],
 "metadata": {
  "kernelspec": {
   "display_name": "Python 3",
   "language": "python",
   "name": "python3"
  },
  "language_info": {
   "codemirror_mode": {
    "name": "ipython",
    "version": 3
   },
   "file_extension": ".py",
   "mimetype": "text/x-python",
   "name": "python",
   "nbconvert_exporter": "python",
   "pygments_lexer": "ipython3",
   "version": "3.11.4"
  }
 },
 "nbformat": 4,
 "nbformat_minor": 2
}
