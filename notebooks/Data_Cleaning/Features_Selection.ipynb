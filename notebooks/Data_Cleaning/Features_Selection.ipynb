{
 "cells": [
  {
   "cell_type": "code",
   "execution_count": null,
   "outputs": [],
   "source": [
    "%run C:\\Users\\Omar\\Intern_Final_Project\\notebooks\\Data_Cleaning\\Features_Engineering.ipynb"
   ],
   "metadata": {
    "collapsed": false
   }
  },
  {
   "cell_type": "code",
   "execution_count": null,
   "outputs": [],
   "source": [
    "df_green"
   ],
   "metadata": {
    "collapsed": false
   }
  },
  {
   "cell_type": "code",
   "execution_count": null,
   "outputs": [],
   "source": [
    "x_df_red=df_red.drop([\"price\"],axis=1)\n",
    "y_df_red=df_red[\"price\"]\n",
    "from sklearn.feature_selection import SelectKBest,f_regression,mutual_info_regression  \n",
    "best_red=SelectKBest(score_func=f_regression,k=26).fit(x_df_red,y_df_red)\n",
    "features_score_red=pd.concat([pd.DataFrame(x_df_red.columns,columns=[\"feature\"]),pd.DataFrame(best_red.scores_,columns=[\"score\"])],axis=1)\n",
    "features_score_red"
   ],
   "metadata": {
    "collapsed": false
   }
  },
  {
   "cell_type": "code",
   "execution_count": null,
   "outputs": [],
   "source": [
    "x_df_green=df_green.drop([\"price\"],axis=1)\n",
    "y_df_green=df_green[\"price\"]\n",
    "\n",
    "best_green=SelectKBest(score_func=f_regression,k=26).fit(x_df_green,y_df_green)\n",
    "features_score_green=pd.concat([pd.DataFrame(x_df_green.columns,columns=[\"feature\"]),pd.DataFrame(best_green.scores_,columns=[\"score\"])],axis=1)\n",
    "features_score_red"
   ],
   "metadata": {
    "collapsed": false
   }
  },
  {
   "cell_type": "code",
   "execution_count": null,
   "outputs": [],
   "source": [
    "x_df_yellow=df_yellow.drop([\"price\"],axis=1)\n",
    "y_df_yellow=df_yellow[\"price\"]\n",
    "\n",
    "best_yellow=SelectKBest(score_func=f_regression,k=26).fit(x_df_yellow,y_df_yellow)\n",
    "features_score_yellow=pd.concat([pd.DataFrame(x_df_yellow.columns,columns=[\"feature\"]),pd.DataFrame(best_yellow.scores_,columns=[\"score\"])],axis=1)\n",
    "features_score_red"
   ],
   "metadata": {
    "collapsed": false
   }
  },
  {
   "cell_type": "code",
   "execution_count": null,
   "metadata": {},
   "outputs": [],
   "source": []
  }
 ],
 "metadata": {
  "kernelspec": {
   "display_name": "Python 3",
   "language": "python",
   "name": "python3"
  },
  "language_info": {
   "codemirror_mode": {
    "name": "ipython",
    "version": 3
   },
   "file_extension": ".py",
   "mimetype": "text/x-python",
   "name": "python",
   "nbconvert_exporter": "python",
   "pygments_lexer": "ipython3",
   "version": "3.11.4"
  }
 },
 "nbformat": 4,
 "nbformat_minor": 2
}
