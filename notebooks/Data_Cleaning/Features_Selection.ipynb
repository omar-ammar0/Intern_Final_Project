{
 "cells": [
  {
   "cell_type": "code",
   "execution_count": null,
   "metadata": {},
   "outputs": [],
   "source": [
    "%run C:\\Users\\Omar\\Intern_Final_Project\\notebooks\\Data_Cleaning\\Features_Engineering.ipynb"
   ]
  },
  {
   "cell_type": "markdown",
   "metadata": {},
   "source": [
    "---"
   ]
  },
  {
   "cell_type": "code",
   "execution_count": 13,
   "metadata": {},
   "outputs": [
    {
     "name": "stdout",
     "output_type": "stream",
     "text": [
      "(402, 478) (402, 478) (402, 478)\n"
     ]
    }
   ],
   "source": [
    "print(df_red.shape,df_green.shape,df_yellow.shape)"
   ]
  },
  {
   "cell_type": "markdown",
   "metadata": {},
   "source": [
    "---"
   ]
  },
  {
   "cell_type": "markdown",
   "metadata": {},
   "source": [
    "### *A. <BR> Applying SelectKBest for the df_red data*"
   ]
  },
  {
   "cell_type": "code",
   "execution_count": 14,
   "metadata": {},
   "outputs": [
    {
     "data": {
      "text/html": [
       "<div>\n",
       "<style scoped>\n",
       "    .dataframe tbody tr th:only-of-type {\n",
       "        vertical-align: middle;\n",
       "    }\n",
       "\n",
       "    .dataframe tbody tr th {\n",
       "        vertical-align: top;\n",
       "    }\n",
       "\n",
       "    .dataframe thead th {\n",
       "        text-align: right;\n",
       "    }\n",
       "</style>\n",
       "<table border=\"1\" class=\"dataframe\">\n",
       "  <thead>\n",
       "    <tr style=\"text-align: right;\">\n",
       "      <th></th>\n",
       "      <th>feature</th>\n",
       "      <th>score</th>\n",
       "    </tr>\n",
       "  </thead>\n",
       "  <tbody>\n",
       "    <tr>\n",
       "      <th>13</th>\n",
       "      <td>price_shift_4_Rolling_2</td>\n",
       "      <td>186.304746</td>\n",
       "    </tr>\n",
       "    <tr>\n",
       "      <th>205</th>\n",
       "      <td>jordan_min_price_shift_4_Rolling_2</td>\n",
       "      <td>150.020071</td>\n",
       "    </tr>\n",
       "    <tr>\n",
       "      <th>14</th>\n",
       "      <td>price_shift_4_Rolling_4</td>\n",
       "      <td>146.411626</td>\n",
       "    </tr>\n",
       "    <tr>\n",
       "      <th>17</th>\n",
       "      <td>price_shift_5_Rolling_2</td>\n",
       "      <td>135.389147</td>\n",
       "    </tr>\n",
       "    <tr>\n",
       "      <th>189</th>\n",
       "      <td>jordan_max_price_shift_4_Rolling_2</td>\n",
       "      <td>131.756426</td>\n",
       "    </tr>\n",
       "    <tr>\n",
       "      <th>...</th>\n",
       "      <td>...</td>\n",
       "      <td>...</td>\n",
       "    </tr>\n",
       "    <tr>\n",
       "      <th>431</th>\n",
       "      <td>vietnam_total_price_shift_4_Rolling_6</td>\n",
       "      <td>0.017885</td>\n",
       "    </tr>\n",
       "    <tr>\n",
       "      <th>152</th>\n",
       "      <td>indonesia_season_shift_6_Rolling_7</td>\n",
       "      <td>0.011585</td>\n",
       "    </tr>\n",
       "    <tr>\n",
       "      <th>365</th>\n",
       "      <td>china_volume_percetntage_shift_4_Rolling_2</td>\n",
       "      <td>0.003988</td>\n",
       "    </tr>\n",
       "    <tr>\n",
       "      <th>413</th>\n",
       "      <td>india_total_price_shift_4_Rolling_2</td>\n",
       "      <td>0.003504</td>\n",
       "    </tr>\n",
       "    <tr>\n",
       "      <th>461</th>\n",
       "      <td>china_total_price_shift_4_Rolling_2</td>\n",
       "      <td>0.000367</td>\n",
       "    </tr>\n",
       "  </tbody>\n",
       "</table>\n",
       "<p>477 rows × 2 columns</p>\n",
       "</div>"
      ],
      "text/plain": [
       "                                        feature       score\n",
       "13                      price_shift_4_Rolling_2  186.304746\n",
       "205          jordan_min_price_shift_4_Rolling_2  150.020071\n",
       "14                      price_shift_4_Rolling_4  146.411626\n",
       "17                      price_shift_5_Rolling_2  135.389147\n",
       "189          jordan_max_price_shift_4_Rolling_2  131.756426\n",
       "..                                          ...         ...\n",
       "431       vietnam_total_price_shift_4_Rolling_6    0.017885\n",
       "152          indonesia_season_shift_6_Rolling_7    0.011585\n",
       "365  china_volume_percetntage_shift_4_Rolling_2    0.003988\n",
       "413         india_total_price_shift_4_Rolling_2    0.003504\n",
       "461         china_total_price_shift_4_Rolling_2    0.000367\n",
       "\n",
       "[477 rows x 2 columns]"
      ]
     },
     "execution_count": 14,
     "metadata": {},
     "output_type": "execute_result"
    }
   ],
   "source": [
    "x_df_red=df_red.drop([\"price\"],axis=1)\n",
    "y_df_red=df_red[\"price\"]\n",
    "from sklearn.feature_selection import SelectKBest,f_regression,mutual_info_regression  \n",
    "best_red=SelectKBest(score_func=f_regression,k=477).fit(x_df_red,y_df_red)\n",
    "features_score_red=pd.concat([pd.DataFrame(x_df_red.columns,columns=[\"feature\"]),pd.DataFrame(best_red.scores_,columns=[\"score\"])],axis=1)\n",
    "features_score_red.sort_values(by=\"score\",ascending=False)"
   ]
  },
  {
   "cell_type": "markdown",
   "metadata": {},
   "source": [
    "#### *A.1. <BR> Dropping the lowest 100 important features to reduce time and machine consumption*"
   ]
  },
  {
   "cell_type": "code",
   "execution_count": 15,
   "metadata": {},
   "outputs": [],
   "source": [
    "for col in df_red:\n",
    "    if col in list(features_score_red.sort_values(by=\"score\",ascending=False)[-100:][\"feature\"]):\n",
    "        df_red.drop({col},axis=1,inplace=True)"
   ]
  },
  {
   "cell_type": "code",
   "execution_count": 16,
   "metadata": {},
   "outputs": [
    {
     "data": {
      "text/plain": [
       "(402, 378)"
      ]
     },
     "execution_count": 16,
     "metadata": {},
     "output_type": "execute_result"
    }
   ],
   "source": [
    "df_red.shape"
   ]
  },
  {
   "cell_type": "markdown",
   "metadata": {},
   "source": [
    "---"
   ]
  },
  {
   "cell_type": "markdown",
   "metadata": {},
   "source": [
    "### *B.<BR> Applying SelectKBest for the df_green data*"
   ]
  },
  {
   "cell_type": "code",
   "execution_count": 17,
   "metadata": {},
   "outputs": [
    {
     "data": {
      "text/html": [
       "<div>\n",
       "<style scoped>\n",
       "    .dataframe tbody tr th:only-of-type {\n",
       "        vertical-align: middle;\n",
       "    }\n",
       "\n",
       "    .dataframe tbody tr th {\n",
       "        vertical-align: top;\n",
       "    }\n",
       "\n",
       "    .dataframe thead th {\n",
       "        text-align: right;\n",
       "    }\n",
       "</style>\n",
       "<table border=\"1\" class=\"dataframe\">\n",
       "  <thead>\n",
       "    <tr style=\"text-align: right;\">\n",
       "      <th></th>\n",
       "      <th>feature</th>\n",
       "      <th>score</th>\n",
       "    </tr>\n",
       "  </thead>\n",
       "  <tbody>\n",
       "    <tr>\n",
       "      <th>13</th>\n",
       "      <td>price_shift_4_Rolling_2</td>\n",
       "      <td>1.097243e+02</td>\n",
       "    </tr>\n",
       "    <tr>\n",
       "      <th>14</th>\n",
       "      <td>price_shift_4_Rolling_4</td>\n",
       "      <td>9.175959e+01</td>\n",
       "    </tr>\n",
       "    <tr>\n",
       "      <th>17</th>\n",
       "      <td>price_shift_5_Rolling_2</td>\n",
       "      <td>8.503407e+01</td>\n",
       "    </tr>\n",
       "    <tr>\n",
       "      <th>205</th>\n",
       "      <td>jordan_min_price_shift_4_Rolling_2</td>\n",
       "      <td>7.774035e+01</td>\n",
       "    </tr>\n",
       "    <tr>\n",
       "      <th>15</th>\n",
       "      <td>price_shift_4_Rolling_6</td>\n",
       "      <td>7.389294e+01</td>\n",
       "    </tr>\n",
       "    <tr>\n",
       "      <th>...</th>\n",
       "      <td>...</td>\n",
       "      <td>...</td>\n",
       "    </tr>\n",
       "    <tr>\n",
       "      <th>457</th>\n",
       "      <td>indonesia_total_price_shift_7_Rolling_2</td>\n",
       "      <td>3.883088e-03</td>\n",
       "    </tr>\n",
       "    <tr>\n",
       "      <th>109</th>\n",
       "      <td>china_shift_4_Rolling_2</td>\n",
       "      <td>3.157983e-03</td>\n",
       "    </tr>\n",
       "    <tr>\n",
       "      <th>452</th>\n",
       "      <td>indonesia_total_price_shift_5_Rolling_7</td>\n",
       "      <td>1.798365e-03</td>\n",
       "    </tr>\n",
       "    <tr>\n",
       "      <th>8</th>\n",
       "      <td>india_season</td>\n",
       "      <td>1.202908e-04</td>\n",
       "    </tr>\n",
       "    <tr>\n",
       "      <th>176</th>\n",
       "      <td>china_season_shift_4_Rolling_7</td>\n",
       "      <td>7.461125e-07</td>\n",
       "    </tr>\n",
       "  </tbody>\n",
       "</table>\n",
       "<p>477 rows × 2 columns</p>\n",
       "</div>"
      ],
      "text/plain": [
       "                                     feature         score\n",
       "13                   price_shift_4_Rolling_2  1.097243e+02\n",
       "14                   price_shift_4_Rolling_4  9.175959e+01\n",
       "17                   price_shift_5_Rolling_2  8.503407e+01\n",
       "205       jordan_min_price_shift_4_Rolling_2  7.774035e+01\n",
       "15                   price_shift_4_Rolling_6  7.389294e+01\n",
       "..                                       ...           ...\n",
       "457  indonesia_total_price_shift_7_Rolling_2  3.883088e-03\n",
       "109                  china_shift_4_Rolling_2  3.157983e-03\n",
       "452  indonesia_total_price_shift_5_Rolling_7  1.798365e-03\n",
       "8                               india_season  1.202908e-04\n",
       "176           china_season_shift_4_Rolling_7  7.461125e-07\n",
       "\n",
       "[477 rows x 2 columns]"
      ]
     },
     "execution_count": 17,
     "metadata": {},
     "output_type": "execute_result"
    }
   ],
   "source": [
    "x_df_green=df_green.drop([\"price\"],axis=1)\n",
    "y_df_green=df_green[\"price\"]\n",
    "\n",
    "best_green=SelectKBest(score_func=f_regression,k=477).fit(x_df_green,y_df_green)\n",
    "features_score_green=pd.concat([pd.DataFrame(x_df_green.columns,columns=[\"feature\"]),pd.DataFrame(best_green.scores_,columns=[\"score\"])],axis=1)\n",
    "features_score_green.sort_values(by=\"score\",ascending=False)\n"
   ]
  },
  {
   "cell_type": "markdown",
   "metadata": {},
   "source": [
    "#### *B.1. <BR> Dropping the lowest 100 important features to reduce time and machine consumption*"
   ]
  },
  {
   "cell_type": "code",
   "execution_count": 18,
   "metadata": {},
   "outputs": [],
   "source": [
    "for col in df_green:\n",
    "    if col in list(features_score_green.sort_values(by=\"score\",ascending=False)[-100:][\"feature\"]):\n",
    "        df_green.drop({col},axis=1,inplace=True)"
   ]
  },
  {
   "cell_type": "code",
   "execution_count": 19,
   "metadata": {},
   "outputs": [
    {
     "data": {
      "text/plain": [
       "(402, 378)"
      ]
     },
     "execution_count": 19,
     "metadata": {},
     "output_type": "execute_result"
    }
   ],
   "source": [
    "df_green.shape"
   ]
  },
  {
   "cell_type": "markdown",
   "metadata": {},
   "source": [
    "---"
   ]
  },
  {
   "cell_type": "markdown",
   "metadata": {},
   "source": [
    "### *C.<BR> Applying SelectKBest for the df_yellow data*"
   ]
  },
  {
   "cell_type": "code",
   "execution_count": 20,
   "metadata": {},
   "outputs": [
    {
     "data": {
      "text/html": [
       "<div>\n",
       "<style scoped>\n",
       "    .dataframe tbody tr th:only-of-type {\n",
       "        vertical-align: middle;\n",
       "    }\n",
       "\n",
       "    .dataframe tbody tr th {\n",
       "        vertical-align: top;\n",
       "    }\n",
       "\n",
       "    .dataframe thead th {\n",
       "        text-align: right;\n",
       "    }\n",
       "</style>\n",
       "<table border=\"1\" class=\"dataframe\">\n",
       "  <thead>\n",
       "    <tr style=\"text-align: right;\">\n",
       "      <th></th>\n",
       "      <th>feature</th>\n",
       "      <th>score</th>\n",
       "    </tr>\n",
       "  </thead>\n",
       "  <tbody>\n",
       "    <tr>\n",
       "      <th>13</th>\n",
       "      <td>price_shift_4_Rolling_2</td>\n",
       "      <td>187.083674</td>\n",
       "    </tr>\n",
       "    <tr>\n",
       "      <th>205</th>\n",
       "      <td>jordan_min_price_shift_4_Rolling_2</td>\n",
       "      <td>148.045073</td>\n",
       "    </tr>\n",
       "    <tr>\n",
       "      <th>14</th>\n",
       "      <td>price_shift_4_Rolling_4</td>\n",
       "      <td>142.025478</td>\n",
       "    </tr>\n",
       "    <tr>\n",
       "      <th>189</th>\n",
       "      <td>jordan_max_price_shift_4_Rolling_2</td>\n",
       "      <td>140.039269</td>\n",
       "    </tr>\n",
       "    <tr>\n",
       "      <th>17</th>\n",
       "      <td>price_shift_5_Rolling_2</td>\n",
       "      <td>134.103925</td>\n",
       "    </tr>\n",
       "    <tr>\n",
       "      <th>...</th>\n",
       "      <td>...</td>\n",
       "      <td>...</td>\n",
       "    </tr>\n",
       "    <tr>\n",
       "      <th>431</th>\n",
       "      <td>vietnam_total_price_shift_4_Rolling_6</td>\n",
       "      <td>0.010432</td>\n",
       "    </tr>\n",
       "    <tr>\n",
       "      <th>433</th>\n",
       "      <td>vietnam_total_price_shift_5_Rolling_2</td>\n",
       "      <td>0.007208</td>\n",
       "    </tr>\n",
       "    <tr>\n",
       "      <th>448</th>\n",
       "      <td>indonesia_total_price_shift_4_Rolling_7</td>\n",
       "      <td>0.006883</td>\n",
       "    </tr>\n",
       "    <tr>\n",
       "      <th>98</th>\n",
       "      <td>indonesia_shift_5_Rolling_4</td>\n",
       "      <td>0.001003</td>\n",
       "    </tr>\n",
       "    <tr>\n",
       "      <th>101</th>\n",
       "      <td>indonesia_shift_6_Rolling_2</td>\n",
       "      <td>0.000005</td>\n",
       "    </tr>\n",
       "  </tbody>\n",
       "</table>\n",
       "<p>477 rows × 2 columns</p>\n",
       "</div>"
      ],
      "text/plain": [
       "                                     feature       score\n",
       "13                   price_shift_4_Rolling_2  187.083674\n",
       "205       jordan_min_price_shift_4_Rolling_2  148.045073\n",
       "14                   price_shift_4_Rolling_4  142.025478\n",
       "189       jordan_max_price_shift_4_Rolling_2  140.039269\n",
       "17                   price_shift_5_Rolling_2  134.103925\n",
       "..                                       ...         ...\n",
       "431    vietnam_total_price_shift_4_Rolling_6    0.010432\n",
       "433    vietnam_total_price_shift_5_Rolling_2    0.007208\n",
       "448  indonesia_total_price_shift_4_Rolling_7    0.006883\n",
       "98               indonesia_shift_5_Rolling_4    0.001003\n",
       "101              indonesia_shift_6_Rolling_2    0.000005\n",
       "\n",
       "[477 rows x 2 columns]"
      ]
     },
     "execution_count": 20,
     "metadata": {},
     "output_type": "execute_result"
    }
   ],
   "source": [
    "x_df_yellow=df_yellow.drop([\"price\"],axis=1)\n",
    "y_df_yellow=df_yellow[\"price\"]\n",
    "\n",
    "best_yellow=SelectKBest(score_func=f_regression,k=477).fit(x_df_yellow,y_df_yellow)\n",
    "features_score_yellow=pd.concat([pd.DataFrame(x_df_yellow.columns,columns=[\"feature\"]),pd.DataFrame(best_yellow.scores_,columns=[\"score\"])],axis=1)\n",
    "features_score_yellow.sort_values(by=\"score\",ascending=False)"
   ]
  },
  {
   "cell_type": "markdown",
   "metadata": {},
   "source": [
    "#### *C.1. <BR> Dropping the lowest 100 important features to reduce time and machine consumption*"
   ]
  },
  {
   "cell_type": "code",
   "execution_count": 21,
   "metadata": {},
   "outputs": [],
   "source": [
    "for col in df_yellow:\n",
    "    if col in list(features_score_yellow.sort_values(by=\"score\",ascending=False)[-100:][\"feature\"]):\n",
    "        df_yellow.drop({col},axis=1,inplace=True)"
   ]
  },
  {
   "cell_type": "code",
   "execution_count": 22,
   "metadata": {},
   "outputs": [
    {
     "data": {
      "text/plain": [
       "(402, 378)"
      ]
     },
     "execution_count": 22,
     "metadata": {},
     "output_type": "execute_result"
    }
   ],
   "source": [
    "df_yellow.shape"
   ]
  },
  {
   "cell_type": "code",
   "execution_count": null,
   "metadata": {},
   "outputs": [],
   "source": []
  }
 ],
 "metadata": {
  "kernelspec": {
   "display_name": "Python 3",
   "language": "python",
   "name": "python3"
  },
  "language_info": {
   "codemirror_mode": {
    "name": "ipython",
    "version": 3
   },
   "file_extension": ".py",
   "mimetype": "text/x-python",
   "name": "python",
   "nbconvert_exporter": "python",
   "pygments_lexer": "ipython3",
   "version": "3.11.4"
  }
 },
 "nbformat": 4,
 "nbformat_minor": 2
}
