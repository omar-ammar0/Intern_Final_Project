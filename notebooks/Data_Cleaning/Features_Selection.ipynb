{
 "cells": [
  {
   "cell_type": "code",
   "execution_count": null,
   "metadata": {},
   "outputs": [],
   "source": [
    "%run C:\\Users\\Omar\\Intern_Final_Project\\notebooks\\Data_Cleaning\\Features_Engineering.ipynb"
   ]
  },
  {
   "cell_type": "code",
   "execution_count": 3,
   "metadata": {},
   "outputs": [
    {
     "name": "stdout",
     "output_type": "stream",
     "text": [
      "(398, 478) (398, 478) (398, 478)\n"
     ]
    }
   ],
   "source": [
    "print(df_red.shape,df_green.shape,df_yellow.shape)"
   ]
  },
  {
   "cell_type": "code",
   "execution_count": 28,
   "metadata": {},
   "outputs": [
    {
     "data": {
      "text/html": [
       "<div>\n",
       "<style scoped>\n",
       "    .dataframe tbody tr th:only-of-type {\n",
       "        vertical-align: middle;\n",
       "    }\n",
       "\n",
       "    .dataframe tbody tr th {\n",
       "        vertical-align: top;\n",
       "    }\n",
       "\n",
       "    .dataframe thead th {\n",
       "        text-align: right;\n",
       "    }\n",
       "</style>\n",
       "<table border=\"1\" class=\"dataframe\">\n",
       "  <thead>\n",
       "    <tr style=\"text-align: right;\">\n",
       "      <th></th>\n",
       "      <th>feature</th>\n",
       "      <th>score</th>\n",
       "    </tr>\n",
       "  </thead>\n",
       "  <tbody>\n",
       "    <tr>\n",
       "      <th>13</th>\n",
       "      <td>price_shift_4_Rolling_2</td>\n",
       "      <td>260.335798</td>\n",
       "    </tr>\n",
       "    <tr>\n",
       "      <th>205</th>\n",
       "      <td>jordan_min_price_shift_4_Rolling_2</td>\n",
       "      <td>212.673563</td>\n",
       "    </tr>\n",
       "    <tr>\n",
       "      <th>14</th>\n",
       "      <td>price_shift_4_Rolling_4</td>\n",
       "      <td>190.718011</td>\n",
       "    </tr>\n",
       "    <tr>\n",
       "      <th>189</th>\n",
       "      <td>jordan_max_price_shift_4_Rolling_2</td>\n",
       "      <td>179.229074</td>\n",
       "    </tr>\n",
       "    <tr>\n",
       "      <th>17</th>\n",
       "      <td>price_shift_5_Rolling_2</td>\n",
       "      <td>173.241156</td>\n",
       "    </tr>\n",
       "    <tr>\n",
       "      <th>...</th>\n",
       "      <td>...</td>\n",
       "      <td>...</td>\n",
       "    </tr>\n",
       "    <tr>\n",
       "      <th>429</th>\n",
       "      <td>vietnam_total_price_shift_4_Rolling_2</td>\n",
       "      <td>1.633135</td>\n",
       "    </tr>\n",
       "    <tr>\n",
       "      <th>443</th>\n",
       "      <td>vietnam_total_price_shift_7_Rolling_6</td>\n",
       "      <td>1.557744</td>\n",
       "    </tr>\n",
       "    <tr>\n",
       "      <th>176</th>\n",
       "      <td>china_season_shift_4_Rolling_7</td>\n",
       "      <td>1.546137</td>\n",
       "    </tr>\n",
       "    <tr>\n",
       "      <th>454</th>\n",
       "      <td>indonesia_total_price_shift_6_Rolling_4</td>\n",
       "      <td>1.463809</td>\n",
       "    </tr>\n",
       "    <tr>\n",
       "      <th>96</th>\n",
       "      <td>indonesia_shift_4_Rolling_7</td>\n",
       "      <td>1.331766</td>\n",
       "    </tr>\n",
       "  </tbody>\n",
       "</table>\n",
       "<p>377 rows × 2 columns</p>\n",
       "</div>"
      ],
      "text/plain": [
       "                                     feature       score\n",
       "13                   price_shift_4_Rolling_2  260.335798\n",
       "205       jordan_min_price_shift_4_Rolling_2  212.673563\n",
       "14                   price_shift_4_Rolling_4  190.718011\n",
       "189       jordan_max_price_shift_4_Rolling_2  179.229074\n",
       "17                   price_shift_5_Rolling_2  173.241156\n",
       "..                                       ...         ...\n",
       "429    vietnam_total_price_shift_4_Rolling_2    1.633135\n",
       "443    vietnam_total_price_shift_7_Rolling_6    1.557744\n",
       "176           china_season_shift_4_Rolling_7    1.546137\n",
       "454  indonesia_total_price_shift_6_Rolling_4    1.463809\n",
       "96               indonesia_shift_4_Rolling_7    1.331766\n",
       "\n",
       "[377 rows x 2 columns]"
      ]
     },
     "execution_count": 28,
     "metadata": {},
     "output_type": "execute_result"
    }
   ],
   "source": [
    "x_df_red=df_red.drop([\"price\"],axis=1)\n",
    "y_df_red=df_red[\"price\"]\n",
    "from sklearn.feature_selection import SelectKBest,f_regression,mutual_info_regression  \n",
    "best_red=SelectKBest(score_func=f_regression,k=400).fit(x_df_red,y_df_red)\n",
    "features_score_red=pd.concat([pd.DataFrame(x_df_red.columns,columns=[\"feature\"]),pd.DataFrame(best_red.scores_,columns=[\"score\"])],axis=1)\n",
    "features_score_red.sort_values(by=\"score\",ascending=False)[:-100]"
   ]
  },
  {
   "cell_type": "code",
   "execution_count": 31,
   "metadata": {},
   "outputs": [],
   "source": [
    "for col in df_red:\n",
    "    if col in list(features_score_red.sort_values(by=\"score\",ascending=False)[-100:][\"feature\"]):\n",
    "        df_red.drop({col},axis=1,inplace=True)"
   ]
  },
  {
   "cell_type": "code",
   "execution_count": 32,
   "metadata": {},
   "outputs": [
    {
     "data": {
      "text/plain": [
       "(398, 378)"
      ]
     },
     "execution_count": 32,
     "metadata": {},
     "output_type": "execute_result"
    }
   ],
   "source": [
    "df_red.shape"
   ]
  },
  {
   "cell_type": "code",
   "execution_count": 21,
   "metadata": {},
   "outputs": [
    {
     "data": {
      "text/html": [
       "<div>\n",
       "<style scoped>\n",
       "    .dataframe tbody tr th:only-of-type {\n",
       "        vertical-align: middle;\n",
       "    }\n",
       "\n",
       "    .dataframe tbody tr th {\n",
       "        vertical-align: top;\n",
       "    }\n",
       "\n",
       "    .dataframe thead th {\n",
       "        text-align: right;\n",
       "    }\n",
       "</style>\n",
       "<table border=\"1\" class=\"dataframe\">\n",
       "  <thead>\n",
       "    <tr style=\"text-align: right;\">\n",
       "      <th></th>\n",
       "      <th>feature</th>\n",
       "      <th>score</th>\n",
       "    </tr>\n",
       "  </thead>\n",
       "  <tbody>\n",
       "    <tr>\n",
       "      <th>13</th>\n",
       "      <td>price_shift_4_Rolling_2</td>\n",
       "      <td>183.027217</td>\n",
       "    </tr>\n",
       "    <tr>\n",
       "      <th>14</th>\n",
       "      <td>price_shift_4_Rolling_4</td>\n",
       "      <td>140.269761</td>\n",
       "    </tr>\n",
       "    <tr>\n",
       "      <th>17</th>\n",
       "      <td>price_shift_5_Rolling_2</td>\n",
       "      <td>127.026484</td>\n",
       "    </tr>\n",
       "    <tr>\n",
       "      <th>205</th>\n",
       "      <td>jordan_min_price_shift_4_Rolling_2</td>\n",
       "      <td>119.559189</td>\n",
       "    </tr>\n",
       "    <tr>\n",
       "      <th>15</th>\n",
       "      <td>price_shift_4_Rolling_6</td>\n",
       "      <td>111.138779</td>\n",
       "    </tr>\n",
       "    <tr>\n",
       "      <th>...</th>\n",
       "      <td>...</td>\n",
       "      <td>...</td>\n",
       "    </tr>\n",
       "    <tr>\n",
       "      <th>35</th>\n",
       "      <td>total_volume_shift_5_Rolling_6</td>\n",
       "      <td>3.906150</td>\n",
       "    </tr>\n",
       "    <tr>\n",
       "      <th>100</th>\n",
       "      <td>indonesia_shift_5_Rolling_7</td>\n",
       "      <td>3.831250</td>\n",
       "    </tr>\n",
       "    <tr>\n",
       "      <th>367</th>\n",
       "      <td>china_volume_percetntage_shift_4_Rolling_6</td>\n",
       "      <td>3.723347</td>\n",
       "    </tr>\n",
       "    <tr>\n",
       "      <th>368</th>\n",
       "      <td>china_volume_percetntage_shift_4_Rolling_7</td>\n",
       "      <td>3.717016</td>\n",
       "    </tr>\n",
       "    <tr>\n",
       "      <th>365</th>\n",
       "      <td>china_volume_percetntage_shift_4_Rolling_2</td>\n",
       "      <td>3.648579</td>\n",
       "    </tr>\n",
       "  </tbody>\n",
       "</table>\n",
       "<p>377 rows × 2 columns</p>\n",
       "</div>"
      ],
      "text/plain": [
       "                                        feature       score\n",
       "13                      price_shift_4_Rolling_2  183.027217\n",
       "14                      price_shift_4_Rolling_4  140.269761\n",
       "17                      price_shift_5_Rolling_2  127.026484\n",
       "205          jordan_min_price_shift_4_Rolling_2  119.559189\n",
       "15                      price_shift_4_Rolling_6  111.138779\n",
       "..                                          ...         ...\n",
       "35               total_volume_shift_5_Rolling_6    3.906150\n",
       "100                 indonesia_shift_5_Rolling_7    3.831250\n",
       "367  china_volume_percetntage_shift_4_Rolling_6    3.723347\n",
       "368  china_volume_percetntage_shift_4_Rolling_7    3.717016\n",
       "365  china_volume_percetntage_shift_4_Rolling_2    3.648579\n",
       "\n",
       "[377 rows x 2 columns]"
      ]
     },
     "execution_count": 21,
     "metadata": {},
     "output_type": "execute_result"
    }
   ],
   "source": [
    "x_df_green=df_green.drop([\"price\"],axis=1)\n",
    "y_df_green=df_green[\"price\"]\n",
    "\n",
    "best_green=SelectKBest(score_func=f_regression,k=75).fit(x_df_green,y_df_green)\n",
    "features_score_green=pd.concat([pd.DataFrame(x_df_green.columns,columns=[\"feature\"]),pd.DataFrame(best_green.scores_,columns=[\"score\"])],axis=1)\n",
    "features_score_green.sort_values(by=\"score\",ascending=False)[:-100]"
   ]
  },
  {
   "cell_type": "code",
   "execution_count": 33,
   "metadata": {},
   "outputs": [],
   "source": [
    "for col in df_green:\n",
    "    if col in list(features_score_green.sort_values(by=\"score\",ascending=False)[-100:][\"feature\"]):\n",
    "        df_green.drop({col},axis=1,inplace=True)"
   ]
  },
  {
   "cell_type": "code",
   "execution_count": 34,
   "metadata": {},
   "outputs": [
    {
     "data": {
      "text/plain": [
       "(398, 378)"
      ]
     },
     "execution_count": 34,
     "metadata": {},
     "output_type": "execute_result"
    }
   ],
   "source": [
    "df_green.shape"
   ]
  },
  {
   "cell_type": "code",
   "execution_count": 22,
   "metadata": {},
   "outputs": [
    {
     "data": {
      "text/html": [
       "<div>\n",
       "<style scoped>\n",
       "    .dataframe tbody tr th:only-of-type {\n",
       "        vertical-align: middle;\n",
       "    }\n",
       "\n",
       "    .dataframe tbody tr th {\n",
       "        vertical-align: top;\n",
       "    }\n",
       "\n",
       "    .dataframe thead th {\n",
       "        text-align: right;\n",
       "    }\n",
       "</style>\n",
       "<table border=\"1\" class=\"dataframe\">\n",
       "  <thead>\n",
       "    <tr style=\"text-align: right;\">\n",
       "      <th></th>\n",
       "      <th>feature</th>\n",
       "      <th>score</th>\n",
       "    </tr>\n",
       "  </thead>\n",
       "  <tbody>\n",
       "    <tr>\n",
       "      <th>13</th>\n",
       "      <td>price_shift_4_Rolling_2</td>\n",
       "      <td>314.294286</td>\n",
       "    </tr>\n",
       "    <tr>\n",
       "      <th>205</th>\n",
       "      <td>jordan_min_price_shift_4_Rolling_2</td>\n",
       "      <td>261.132552</td>\n",
       "    </tr>\n",
       "    <tr>\n",
       "      <th>189</th>\n",
       "      <td>jordan_max_price_shift_4_Rolling_2</td>\n",
       "      <td>253.132565</td>\n",
       "    </tr>\n",
       "    <tr>\n",
       "      <th>14</th>\n",
       "      <td>price_shift_4_Rolling_4</td>\n",
       "      <td>241.687322</td>\n",
       "    </tr>\n",
       "    <tr>\n",
       "      <th>17</th>\n",
       "      <td>price_shift_5_Rolling_2</td>\n",
       "      <td>219.097003</td>\n",
       "    </tr>\n",
       "    <tr>\n",
       "      <th>...</th>\n",
       "      <td>...</td>\n",
       "      <td>...</td>\n",
       "    </tr>\n",
       "    <tr>\n",
       "      <th>267</th>\n",
       "      <td>vietnam_season_1_shift_7_Rolling_6</td>\n",
       "      <td>2.528676</td>\n",
       "    </tr>\n",
       "    <tr>\n",
       "      <th>185</th>\n",
       "      <td>china_season_shift_7_Rolling_2</td>\n",
       "      <td>2.483691</td>\n",
       "    </tr>\n",
       "    <tr>\n",
       "      <th>261</th>\n",
       "      <td>vietnam_season_1_shift_6_Rolling_2</td>\n",
       "      <td>2.439110</td>\n",
       "    </tr>\n",
       "    <tr>\n",
       "      <th>255</th>\n",
       "      <td>vietnam_season_1_shift_4_Rolling_6</td>\n",
       "      <td>2.437130</td>\n",
       "    </tr>\n",
       "    <tr>\n",
       "      <th>101</th>\n",
       "      <td>indonesia_shift_6_Rolling_2</td>\n",
       "      <td>2.367693</td>\n",
       "    </tr>\n",
       "  </tbody>\n",
       "</table>\n",
       "<p>377 rows × 2 columns</p>\n",
       "</div>"
      ],
      "text/plain": [
       "                                feature       score\n",
       "13              price_shift_4_Rolling_2  314.294286\n",
       "205  jordan_min_price_shift_4_Rolling_2  261.132552\n",
       "189  jordan_max_price_shift_4_Rolling_2  253.132565\n",
       "14              price_shift_4_Rolling_4  241.687322\n",
       "17              price_shift_5_Rolling_2  219.097003\n",
       "..                                  ...         ...\n",
       "267  vietnam_season_1_shift_7_Rolling_6    2.528676\n",
       "185      china_season_shift_7_Rolling_2    2.483691\n",
       "261  vietnam_season_1_shift_6_Rolling_2    2.439110\n",
       "255  vietnam_season_1_shift_4_Rolling_6    2.437130\n",
       "101         indonesia_shift_6_Rolling_2    2.367693\n",
       "\n",
       "[377 rows x 2 columns]"
      ]
     },
     "execution_count": 22,
     "metadata": {},
     "output_type": "execute_result"
    }
   ],
   "source": [
    "x_df_yellow=df_yellow.drop([\"price\"],axis=1)\n",
    "y_df_yellow=df_yellow[\"price\"]\n",
    "\n",
    "best_yellow=SelectKBest(score_func=f_regression,k=26).fit(x_df_yellow,y_df_yellow)\n",
    "features_score_yellow=pd.concat([pd.DataFrame(x_df_yellow.columns,columns=[\"feature\"]),pd.DataFrame(best_yellow.scores_,columns=[\"score\"])],axis=1)\n",
    "features_score_yellow.sort_values(by=\"score\",ascending=False)[:-100]"
   ]
  },
  {
   "cell_type": "code",
   "execution_count": 35,
   "metadata": {},
   "outputs": [],
   "source": [
    "for col in df_yellow:\n",
    "    if col in list(features_score_yellow.sort_values(by=\"score\",ascending=False)[-100:][\"feature\"]):\n",
    "        df_yellow.drop({col},axis=1,inplace=True)"
   ]
  },
  {
   "cell_type": "code",
   "execution_count": 36,
   "metadata": {},
   "outputs": [
    {
     "data": {
      "text/plain": [
       "(398, 378)"
      ]
     },
     "execution_count": 36,
     "metadata": {},
     "output_type": "execute_result"
    }
   ],
   "source": [
    "df_yellow.shape"
   ]
  },
  {
   "cell_type": "code",
   "execution_count": null,
   "metadata": {},
   "outputs": [],
   "source": []
  }
 ],
 "metadata": {
  "kernelspec": {
   "display_name": "Python 3",
   "language": "python",
   "name": "python3"
  },
  "language_info": {
   "codemirror_mode": {
    "name": "ipython",
    "version": 3
   },
   "file_extension": ".py",
   "mimetype": "text/x-python",
   "name": "python",
   "nbconvert_exporter": "python",
   "pygments_lexer": "ipython3",
   "version": "3.11.4"
  }
 },
 "nbformat": 4,
 "nbformat_minor": 2
}
